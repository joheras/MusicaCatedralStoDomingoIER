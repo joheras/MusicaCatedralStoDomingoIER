{
  "nbformat": 4,
  "nbformat_minor": 0,
  "metadata": {
    "colab": {
      "name": "xml2midi.ipynb",
      "provenance": [],
      "authorship_tag": "ABX9TyMoD9dT8upEAqZbziyPgz8N",
      "include_colab_link": true
    },
    "kernelspec": {
      "name": "python3",
      "display_name": "Python 3"
    },
    "language_info": {
      "name": "python"
    }
  },
  "cells": [
    {
      "cell_type": "markdown",
      "metadata": {
        "id": "view-in-github",
        "colab_type": "text"
      },
      "source": [
        "<a href=\"https://colab.research.google.com/github/joheras/MusicaCatedralStoDomingoIER/blob/main/Notebooks/SacarM%C3%BAsica/xml2midi.ipynb\" target=\"_parent\"><img src=\"https://colab.research.google.com/assets/colab-badge.svg\" alt=\"Open In Colab\"/></a>"
      ]
    },
    {
      "cell_type": "markdown",
      "metadata": {
        "id": "RDFkE17GJLm_"
      },
      "source": [
        "# Nota\n",
        "- También se puede pasar a .pdf pero hace falta tener conectado el programa museScore a el entorno.\n",
        "  \n",
        "  https://musescore.com/"
      ]
    },
    {
      "cell_type": "code",
      "metadata": {
        "colab": {
          "base_uri": "https://localhost:8080/",
          "height": 35
        },
        "id": "tKSxJfhGGJ_C",
        "outputId": "79f86eba-980d-45ed-b218-cfe7a753cd37"
      },
      "source": [
        "import music21\n",
        "c = music21.converter.parse('prueba.xml')\n",
        "c.write('midi','midi.mid')"
      ],
      "execution_count": 5,
      "outputs": [
        {
          "output_type": "execute_result",
          "data": {
            "application/vnd.google.colaboratory.intrinsic+json": {
              "type": "string"
            },
            "text/plain": [
              "'midi.mid'"
            ]
          },
          "metadata": {
            "tags": []
          },
          "execution_count": 5
        }
      ]
    }
  ]
}