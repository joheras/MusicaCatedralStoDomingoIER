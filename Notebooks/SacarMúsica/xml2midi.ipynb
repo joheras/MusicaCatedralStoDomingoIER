{
  "nbformat": 4,
  "nbformat_minor": 0,
  "metadata": {
    "colab": {
      "name": "xml2midi.ipynb",
      "provenance": [],
      "authorship_tag": "ABX9TyPzC84WwCWt2IryjB9WAvDK",
      "include_colab_link": true
    },
    "kernelspec": {
      "name": "python3",
      "display_name": "Python 3"
    },
    "language_info": {
      "name": "python"
    }
  },
  "cells": [
    {
      "cell_type": "markdown",
      "metadata": {
        "id": "view-in-github",
        "colab_type": "text"
      },
      "source": [
        "<a href=\"https://colab.research.google.com/github/joheras/MusicaCatedralStoDomingoIER/blob/main/Notebooks/SacarM%C3%BAsica/xml2midi.ipynb\" target=\"_parent\"><img src=\"https://colab.research.google.com/assets/colab-badge.svg\" alt=\"Open In Colab\"/></a>"
      ]
    },
    {
      "cell_type": "markdown",
      "metadata": {
        "id": "RDFkE17GJLm_"
      },
      "source": [
        "# Nota\n",
        "- También se puede pasar a .pdf pero hace falta tener conectado el programa museScore a el entorno.\n",
        "  \n",
        "  https://musescore.com/"
      ]
    },
    {
      "cell_type": "code",
      "metadata": {
        "colab": {
          "base_uri": "https://localhost:8080/",
          "height": 35
        },
        "id": "tKSxJfhGGJ_C",
        "outputId": "79f86eba-980d-45ed-b218-cfe7a753cd37"
      },
      "source": [
        "import music21\n",
        "import pretty_midi\n",
        "# Abrimos el archivo MusicXML Transformamos a MIDI y lo guardamos en archivo.mid\n",
        "c = music21.converter.parse('archivo.xml')\n",
        "c.write('midi','archivo.mid')\n",
        "\n",
        "# Mostramos la imagen que genera el archivo MusicXML\n",
        "c.show() \n",
        "\n",
        "# Transformamos el archivo MIDI a sonido\n",
        "midi_data = pretty_midi.PrettyMIDI('archivo.mid')\n",
        "Fs = 22050\n",
        "audio_data = midi_data.synthesize(fs=Fs)\n",
        "ipd.Audio(audio_data, rate=Fs)"
      ],
      "execution_count": null,
      "outputs": [
        {
          "output_type": "execute_result",
          "data": {
            "application/vnd.google.colaboratory.intrinsic+json": {
              "type": "string"
            },
            "text/plain": [
              "'midi.mid'"
            ]
          },
          "metadata": {
            "tags": []
          },
          "execution_count": 5
        }
      ]
    }
  ]
}