{
  "nbformat": 4,
  "nbformat_minor": 0,
  "metadata": {
    "colab": {
      "name": "Creando_Datasets.ipynb",
      "provenance": [],
      "authorship_tag": "ABX9TyNucEF/R4U7kBIOkLVSP1UO",
      "include_colab_link": true
    },
    "kernelspec": {
      "name": "python3",
      "display_name": "Python 3"
    }
  },
  "cells": [
    {
      "cell_type": "markdown",
      "metadata": {
        "id": "view-in-github",
        "colab_type": "text"
      },
      "source": [
        "<a href=\"https://colab.research.google.com/github/joheras/MusicaCatedralStoDomingoIER/blob/main/Notebooks/SacarM%C3%BAsica/Creando_Datasets.ipynb\" target=\"_parent\"><img src=\"https://colab.research.google.com/assets/colab-badge.svg\" alt=\"Open In Colab\"/></a>"
      ]
    },
    {
      "cell_type": "markdown",
      "metadata": {
        "id": "Lq21gT08M7s1"
      },
      "source": [
        "# Datasets para entrenamiento\r\n",
        "- Vamos a crear con algunos de los pentagramas un dataset para la posterior clasificación."
      ]
    },
    {
      "cell_type": "markdown",
      "metadata": {
        "id": "yVWr7N6iNMPW"
      },
      "source": [
        "## Librerías"
      ]
    },
    {
      "cell_type": "code",
      "metadata": {
        "id": "13sjziUyNobK"
      },
      "source": [
        "%%capture\r\n",
        "pip install py_midicsv"
      ],
      "execution_count": 1,
      "outputs": []
    },
    {
      "cell_type": "code",
      "metadata": {
        "id": "Bur8I4AaNrLZ"
      },
      "source": [
        "%%capture\r\n",
        "pip install MIDIUtil"
      ],
      "execution_count": 2,
      "outputs": []
    },
    {
      "cell_type": "code",
      "metadata": {
        "id": "VWjxvgfMNrgx"
      },
      "source": [
        "%%capture\r\n",
        "pip install pretty_midi"
      ],
      "execution_count": 3,
      "outputs": []
    },
    {
      "cell_type": "code",
      "metadata": {
        "id": "LVW2xWSvNI2c"
      },
      "source": [
        "import cv2\r\n",
        "import pickle\r\n",
        "import midiutil\r\n",
        "import pretty_midi\r\n",
        "import IPython.display as ipd\r\n",
        "import numpy as np\r\n",
        "import pandas as pd\r\n",
        "from matplotlib import pyplot as plt\r\n",
        "from matplotlib import patches\r\n",
        "from matplotlib import colors\r\n",
        "import statistics\r\n",
        "import py_midicsv as pm\r\n",
        "import random\r\n",
        "import sys\r\n",
        "import json\r\n",
        "import os\r\n",
        "import re\r\n",
        "import music21 as m21"
      ],
      "execution_count": 4,
      "outputs": []
    },
    {
      "cell_type": "code",
      "metadata": {
        "id": "HdDmSFPhpq3O"
      },
      "source": [
        "%%capture\r\n",
        "pip install icevision[all]"
      ],
      "execution_count": 5,
      "outputs": []
    },
    {
      "cell_type": "code",
      "metadata": {
        "id": "eY5_LXU-p1Av"
      },
      "source": [
        "from icevision.all import *"
      ],
      "execution_count": 6,
      "outputs": []
    },
    {
      "cell_type": "markdown",
      "metadata": {
        "id": "VAs2QOZuNKbU"
      },
      "source": [
        "## Funciones"
      ]
    },
    {
      "cell_type": "code",
      "metadata": {
        "id": "2wEf38gnNN-T"
      },
      "source": [
        "def verPagina(num_obra):\r\n",
        "  for cla in ini_Obras:\r\n",
        "    if num_obra in ini_Obras[cla]: return cla"
      ],
      "execution_count": 7,
      "outputs": []
    },
    {
      "cell_type": "code",
      "metadata": {
        "id": "FK151DT4NRo8"
      },
      "source": [
        "def borrarTexto(foto,numPag):\r\n",
        "  n = len(texto[numPag]['text'])\r\n",
        "  foto2 = foto.copy()\r\n",
        "  for i in range(0,n):\r\n",
        "    x = texto[numPag]['left'][i]\r\n",
        "    y = texto[numPag]['top'][i]\r\n",
        "    h = texto[numPag]['height'][i]\r\n",
        "    w = texto[numPag]['width'][i]\r\n",
        "    cv2.rectangle(foto2, (x-150, y-2), (x + w + 150, y + h+2), (255, 255, 255), -1)\r\n",
        "  return foto2"
      ],
      "execution_count": 8,
      "outputs": []
    },
    {
      "cell_type": "code",
      "metadata": {
        "id": "XUp6fvYT7mRA"
      },
      "source": [
        "def abrirImagen(path):\r\n",
        "  return cv2.imread(str(path))\r\n",
        "\r\n",
        "def imagenDeImagen(img,h=16,w=16):\r\n",
        "  plt.figure(figsize = (h,w))\r\n",
        "  plt.imshow(img)\r\n",
        "  plt.show()\r\n",
        "\r\n",
        "def mostrarImagen(path):\r\n",
        "  img=cv2.imread(str(path))\r\n",
        "  imagenDeImagen(img)\r\n",
        "  return abrirImagen(img)\r\n",
        "\r\n",
        "\r\n",
        "def imgAnotada(path):\r\n",
        "  colores = {'claved':(119, 90, 17), 'claves':(119, 90, 17), 'clavef':(119, 90, 17), 'nota1':(150,255,209), 'nota2':(150,255,209), 'nota4':(150,255,209), 'nota1:2':(150,255,209), 'nota1:4':(150,255,209), 'notae':(150,255,209), 'sos':(242,170,255), 'bem':(242,170,255), 'bec':(242,170,255), 'sil0':(159,142,243), 'sil1':(159,142,243), 'sil2':(159,142,243), 'sil1:2':(159,142,243), 'sil1:4':(159,142,243), '2x4':(173,76,0), '3x4':(173,76,0), '4x4':(173,76,0), '6x8':(173,76,0), 'punt':(0,255,0), 'liga':(40,47,153),'3':(255,0,0),'line':(119,189,255),'other':(35,99,33)}\r\n",
        "  img = cv2.imread(str(path))\r\n",
        "  n=path.stem+'.json'\r\n",
        "  anotacion= json.loads(open(str(path.parent.parent/'annotations'/n)).read())\r\n",
        "  for elemento in anotacion:\r\n",
        "    x, y, z, w=elemento[\"box\"]\r\n",
        "    cv2.rectangle(img, (x, y), (z,w), colores[elemento[\"label\"]], 2)\r\n",
        "  return img\r\n",
        "\r\n",
        "def imgEscrita(path):\r\n",
        "  colores = {'claved':(119, 90, 17), 'claves':(119, 90, 17), 'clavef':(119, 90, 17), 'nota1':(150,255,209), 'nota2':(150,255,209), 'nota4':(150,255,209), 'nota1:2':(150,255,209), 'nota1:4':(150,255,209), 'notae':(150,255,209), 'sos':(242,170,255), 'bem':(242,170,255), 'bec':(242,170,255), 'sil0':(159,142,243), 'sil1':(159,142,243), 'sil2':(159,142,243), 'sil1:2':(159,142,243), 'sil1:4':(159,142,243), '2x4':(173,76,0), '3x4':(173,76,0), '4x4':(173,76,0), '6x8':(173,76,0), 'punt':(0,255,0), 'liga':(40,47,153),'3':(255,0,0),'line':(119,189,255),'other':(35,99,33)}\r\n",
        "  img = cv2.imread(str(path))\r\n",
        "  img = imgAnotada(path)\r\n",
        "  n=path.stem+'.json'\r\n",
        "  anotacion= json.loads(open(str(path.parent.parent/'annotations'/n)).read())\r\n",
        "  for elemento in anotacion:\r\n",
        "    x, y, z, w=elemento[\"box\"]\r\n",
        "    cv2.putText(img, elemento[\"label\"], (int(x+(z-x)/2), w+10), cv2.FONT_HERSHEY_TRIPLEX,0.35, colores[elemento[\"label\"]], 1)\r\n",
        "  return img\r\n",
        "\r\n",
        "def pintarPredicciones(num):\r\n",
        "  for f in files[0:num]:\r\n",
        "    clone=imgAnotada(f)\r\n",
        "    txt_pred=open('input/detection-results/'+f.stem+'.txt')\r\n",
        "    linea_pred=txt_pred.readline() \r\n",
        "    while linea_pred!='':\r\n",
        "      logit,conf,x1,y1,z1,w1=linea_pred.split()\r\n",
        "      linea_pred=txt_pred.readline()\r\n",
        "      cv2.rectangle(clone, (int(x1), int(y1)), (int(z1),int(w1)), (255, 0, 0), 2)\r\n",
        "    imagenDeImagen(clone,31,10)"
      ],
      "execution_count": 9,
      "outputs": []
    },
    {
      "cell_type": "markdown",
      "metadata": {
        "id": "nfVT5vb0NhUt"
      },
      "source": [
        "## Recuperando las fotos"
      ]
    },
    {
      "cell_type": "code",
      "metadata": {
        "id": "bkDB0D5cNjTV"
      },
      "source": [
        "%%capture\r\n",
        "!wget https://www.dropbox.com/s/u2ekoltvu35kfjw/Fotos.zip?dl=1 -O Fotos.zip"
      ],
      "execution_count": null,
      "outputs": []
    },
    {
      "cell_type": "code",
      "metadata": {
        "id": "QX4x4OzzNn3l"
      },
      "source": [
        "%%capture\r\n",
        "!unzip Fotos.zip"
      ],
      "execution_count": null,
      "outputs": []
    },
    {
      "cell_type": "code",
      "metadata": {
        "id": "hFrFaE3KNpm9"
      },
      "source": [
        "with open(\"texto.pickle\", \"rb\") as f:\r\n",
        "    texto = pickle.load(f)\r\n",
        "with open(\"pentagramas2.pickle\", \"rb\") as f:\r\n",
        "    pentagramas2 = pickle.load(f)\r\n",
        "with open(\"ini_Obras.pickle\", \"rb\") as f:\r\n",
        "    ini_Obras = pickle.load(f)\r\n",
        "with open(\"Obras_final.pickle\", \"rb\") as f:\r\n",
        "    Obras_final = pickle.load(f)\r\n",
        "with open(\"Obras.pickle\", \"rb\") as f:\r\n",
        "    Obras = pickle.load(f)"
      ],
      "execution_count": null,
      "outputs": []
    },
    {
      "cell_type": "code",
      "metadata": {
        "id": "55bglL8yNtbf"
      },
      "source": [
        "claves = [cla for cla in pentagramas2]\r\n",
        "Pagina = {}\r\n",
        "for cla in claves:\r\n",
        "  foto = cv2.imread('Fotos/pag'+str(cla)+'.jpg')\r\n",
        "  foto = cv2.cvtColor(foto,cv2.COLOR_BGR2RGB)\r\n",
        "  Pagina[cla] = foto"
      ],
      "execution_count": null,
      "outputs": []
    },
    {
      "cell_type": "markdown",
      "metadata": {
        "id": "p31munIaOps_"
      },
      "source": [
        "### Cogiendo una muestra de los pentagramas para entrenar.\r\n",
        " - De un pentagrama salen bastantes símbolos así que de momento no vamos a coger demasiados.\r\n",
        " - Ponemos una semilla (random_state) para obtener siempre la misma muestra"
      ]
    },
    {
      "cell_type": "code",
      "metadata": {
        "colab": {
          "base_uri": "https://localhost:8080/"
        },
        "id": "JT4oyivfRBki",
        "outputId": "6eb46c9c-f76f-447e-b875-9ba01960bc79"
      },
      "source": [
        "S = 0\r\n",
        "for cla in claves:\r\n",
        "  S = S + len(pentagramas2[cla])\r\n",
        "S"
      ],
      "execution_count": null,
      "outputs": [
        {
          "output_type": "execute_result",
          "data": {
            "text/plain": [
              "2308"
            ]
          },
          "metadata": {
            "tags": []
          },
          "execution_count": 14
        }
      ]
    },
    {
      "cell_type": "code",
      "metadata": {
        "id": "12J2N7h7RccR"
      },
      "source": [
        "from sklearn.model_selection import train_test_split"
      ],
      "execution_count": null,
      "outputs": []
    },
    {
      "cell_type": "code",
      "metadata": {
        "id": "eQsmT_amSMyU"
      },
      "source": [
        "k = 1\r\n",
        "for cla in claves:\r\n",
        "  pag = Pagina[cla]\r\n",
        "  for i in range(0,len(pentagramas2[cla])):\r\n",
        "    x,y,w,h = pentagramas2[cla][i]\r\n",
        "    pent = borrarTexto(pag,cla)[y:y+h,x:x+w]\r\n",
        "    cv2.imwrite('/content/pentagramas/pent' + str(k) + '.jpg',pent)\r\n",
        "    k = k + 1"
      ],
      "execution_count": null,
      "outputs": []
    },
    {
      "cell_type": "code",
      "metadata": {
        "id": "ifc2svHnTOiE"
      },
      "source": [
        "muestra = [i for i in range(1,k)]\r\n",
        "_, muestra, _, _, = train_test_split(muestra, muestra, test_size=0.13, random_state=42)"
      ],
      "execution_count": null,
      "outputs": []
    },
    {
      "cell_type": "code",
      "metadata": {
        "colab": {
          "base_uri": "https://localhost:8080/"
        },
        "id": "neIPN1thfq1F",
        "outputId": "a0dfe486-0cd8-40ac-ffb7-024d896dffce"
      },
      "source": [
        "len(muestra)"
      ],
      "execution_count": null,
      "outputs": [
        {
          "output_type": "execute_result",
          "data": {
            "text/plain": [
              "301"
            ]
          },
          "metadata": {
            "tags": []
          },
          "execution_count": 18
        }
      ]
    },
    {
      "cell_type": "code",
      "metadata": {
        "colab": {
          "base_uri": "https://localhost:8080/"
        },
        "id": "U0pP-qRqfnll",
        "outputId": "4b8897fb-3cfb-44f1-f7ae-a4a4ccc22a40"
      },
      "source": [
        "print(muestra)"
      ],
      "execution_count": null,
      "outputs": [
        {
          "output_type": "stream",
          "text": [
            "[1643, 510, 1135, 45, 974, 1118, 1746, 1661, 2021, 1248, 1576, 472, 1412, 209, 1242, 508, 1350, 283, 1226, 483, 1407, 941, 1961, 621, 930, 1331, 434, 1056, 1954, 1353, 1930, 2168, 1211, 1104, 801, 1819, 678, 30, 1422, 1863, 2060, 1921, 734, 1042, 1740, 2131, 2277, 1488, 433, 1057, 1343, 2163, 462, 1866, 1765, 1933, 963, 2164, 2286, 773, 1660, 2272, 1533, 1675, 112, 1293, 252, 916, 230, 600, 291, 423, 2187, 1534, 1180, 2072, 975, 135, 1035, 611, 2276, 197, 322, 1977, 479, 1721, 219, 101, 2002, 1291, 424, 57, 1217, 1092, 591, 1468, 1832, 1122, 1727, 743, 1547, 1302, 415, 2178, 1950, 1387, 1026, 2234, 747, 1171, 917, 248, 2177, 2257, 1001, 486, 97, 2120, 180, 1111, 1799, 1011, 1323, 882, 255, 1546, 1780, 446, 436, 760, 1126, 1674, 1205, 631, 1431, 473, 1522, 880, 1772, 565, 529, 890, 1654, 280, 308, 1897, 1893, 2095, 2005, 2150, 1784, 1512, 1434, 799, 509, 409, 950, 1402, 71, 1865, 189, 439, 304, 1718, 1212, 1279, 1884, 260, 1447, 1754, 1191, 1653, 811, 158, 835, 530, 1745, 1335, 421, 1609, 1682, 582, 52, 369, 417, 1269, 1690, 2116, 841, 1633, 68, 212, 1179, 1996, 1622, 2046, 730, 742, 2295, 368, 1624, 1881, 411, 1608, 2142, 1028, 545, 70, 403, 1766, 1457, 1445, 2011, 343, 2022, 1172, 679, 643, 1973, 2023, 481, 1587, 789, 2300, 1304, 1413, 1129, 2013, 85, 1250, 874, 174, 1190, 74, 728, 110, 914, 1265, 553, 1610, 1655, 942, 1289, 241, 1667, 49, 1899, 2208, 367, 1581, 1229, 1233, 673, 1386, 431, 2085, 2237, 531, 1524, 1909, 2190, 637, 19, 1565, 1267, 1948, 868, 1481, 77, 2252, 1346, 1939, 2179, 1583, 169, 2016, 1605, 1566, 2155, 441, 533, 979, 1460, 927, 487, 1019, 1755, 232, 136, 26, 384, 1405, 2003, 333, 193, 290, 351, 1669, 1271, 612, 924]\n"
          ],
          "name": "stdout"
        }
      ]
    },
    {
      "cell_type": "markdown",
      "metadata": {
        "id": "UFcfZp0iOixw"
      },
      "source": [
        "## Anotando las imágenes\r\n",
        "- Nos ayudaremos de OpenCV para anotarlas. La anotación la vamos a hacer \"semi-manual\". Esto es, sacaremos por pantalla el bounding box de todos los contornos para apuntarlos manualmanete en un archivo."
      ]
    },
    {
      "cell_type": "code",
      "metadata": {
        "id": "bE8atVSVDbbj",
        "colab": {
          "base_uri": "https://localhost:8080/",
          "height": 35
        },
        "outputId": "55561513-4798-4ad5-983f-4880dfc7e9f6"
      },
      "source": [
        "#import shutil\r\n",
        "#shutil.make_archive('images', 'zip', '/content/images')"
      ],
      "execution_count": null,
      "outputs": [
        {
          "output_type": "execute_result",
          "data": {
            "application/vnd.google.colaboratory.intrinsic+json": {
              "type": "string"
            },
            "text/plain": [
              "'/content/images.zip'"
            ]
          },
          "metadata": {
            "tags": []
          },
          "execution_count": 92
        }
      ]
    },
    {
      "cell_type": "code",
      "metadata": {
        "id": "ZvOulXJsMMGW"
      },
      "source": [
        "muestra[82] ## Toca la 82"
      ],
      "execution_count": null,
      "outputs": []
    },
    {
      "cell_type": "code",
      "metadata": {
        "id": "LlSTrbSpd4J9"
      },
      "source": [
        "pent = cv2.imread('pentagramas/pent'+str(muestra[82])+'.jpg')\r\n",
        "pent = cv2.cvtColor(pent,cv2.COLOR_BGR2RGB)\r\n",
        "p = pent.copy()\r\n",
        "p  = cv2.cvtColor(p,cv2.COLOR_RGB2GRAY)\r\n",
        "_,p=cv2.threshold(p, 0, 1, cv2.THRESH_BINARY_INV | cv2.THRESH_OTSU)\r\n",
        "\r\n",
        "# Operaciones con OpenCV\r\n",
        "\r\n",
        "kernel = np.ones((1,100),dtype='uint8')\r\n",
        "p = cv2.morphologyEx(p,cv2.MORPH_TOPHAT,kernel)\r\n",
        "kernel = np.ones((2,1),dtype='uint8')\r\n",
        "p = cv2.erode(p,kernel)\r\n",
        "kernel = np.ones((5,2),dtype='uint8')\r\n",
        "p = cv2.morphologyEx(p,cv2.MORPH_CLOSE,kernel)\r\n",
        "kernel = np.ones((2,4),dtype='uint8')\r\n",
        "p = cv2.dilate(p,kernel)\r\n",
        "cnts,_ = cv2.findContours(p, cv2.RETR_EXTERNAL, cv2.CHAIN_APPROX_SIMPLE)\r\n",
        "for c in cnts:\r\n",
        "  (x, y, w, h) = cv2.boundingRect(c)\r\n",
        "  if w > 40:\r\n",
        "    kernel = np.ones((8,1),dtype='uint8')\r\n",
        "    p[y-7:y+h+7,x-7:x+w+7] = cv2.morphologyEx(p[y-7:y+h+7,x-7:x+w+7],cv2.MORPH_ELLIPSE,kernel)\r\n",
        "\r\n",
        "# FIN\r\n",
        "\r\n",
        "fig, ax = plt.subplots(1,1,figsize=(16,16))\r\n",
        "ax.imshow(p,cmap=plt.cm.binary)\r\n",
        "ax.xaxis.set_ticklabels([])\r\n",
        "ax.yaxis.set_ticklabels([])\r\n",
        "plt.show()\r\n",
        "cnts,_ = cv2.findContours(p, cv2.RETR_EXTERNAL, cv2.CHAIN_APPROX_SIMPLE)\r\n",
        "for c in cnts:\r\n",
        "  p = pent.copy()\r\n",
        "  (x, y, w, h) = cv2.boundingRect(c)\r\n",
        "  cv2.rectangle(p, (x-4, y-4), (x + w+4, y + h+4), (119, 90, 17), 2)\r\n",
        "  fig, ax = plt.subplots(1,1,figsize=(16,16))\r\n",
        "  ax.imshow(p)\r\n",
        "  ax.xaxis.set_ticklabels([])\r\n",
        "  ax.yaxis.set_ticklabels([])\r\n",
        "  print('{'+'\"box\": [{:}, {:}, {:}, {:}]'.format(x-4, y-4, x + w+4, y + h+4)+',\"label\": \"nota\"},')\r\n",
        "  plt.show()"
      ],
      "execution_count": null,
      "outputs": []
    },
    {
      "cell_type": "markdown",
      "metadata": {
        "id": "Q3kIHlZevzvi"
      },
      "source": [
        "## Anotando notas"
      ]
    },
    {
      "cell_type": "code",
      "metadata": {
        "id": "kjBtStSFMQJE",
        "outputId": "9f7731c3-edb6-4ec3-f766-12d616ca4a89",
        "colab": {
          "base_uri": "https://localhost:8080/",
          "height": 35
        }
      },
      "source": [
        "import shutil\r\n",
        "shutil.make_archive('notas', 'zip', '/content/notas')"
      ],
      "execution_count": 27,
      "outputs": [
        {
          "output_type": "execute_result",
          "data": {
            "application/vnd.google.colaboratory.intrinsic+json": {
              "type": "string"
            },
            "text/plain": [
              "'/content/notas.zip'"
            ]
          },
          "metadata": {
            "tags": []
          },
          "execution_count": 27
        }
      ]
    },
    {
      "cell_type": "code",
      "metadata": {
        "id": "EbEkJea6w3s-"
      },
      "source": [
        "%%capture\r\n",
        "!unzip pents.zip"
      ],
      "execution_count": 10,
      "outputs": []
    },
    {
      "cell_type": "code",
      "metadata": {
        "id": "_CA3eEDgHDCg"
      },
      "source": [
        "files = get_files('/content/pents', folders = ['images'])"
      ],
      "execution_count": 11,
      "outputs": []
    },
    {
      "cell_type": "code",
      "metadata": {
        "id": "EATZH6YeIpBf",
        "outputId": "3c06b8e8-915a-4112-85f9-b0ae5a75e5d5",
        "colab": {
          "base_uri": "https://localhost:8080/"
        }
      },
      "source": [
        "files[0] # Vamos por 1"
      ],
      "execution_count": 15,
      "outputs": [
        {
          "output_type": "execute_result",
          "data": {
            "text/plain": [
              "Path('/content/pents/images/pent1035.jpg')"
            ]
          },
          "metadata": {
            "tags": []
          },
          "execution_count": 15
        }
      ]
    },
    {
      "cell_type": "code",
      "metadata": {
        "id": "9wnV6kkTHnhv",
        "outputId": "d85d57da-6d57-4e44-c37b-502792de95d8",
        "colab": {
          "base_uri": "https://localhost:8080/",
          "height": 1000
        }
      },
      "source": [
        "img = cv2.imread(str(files[0])) # 1\r\n",
        "n=files[0].stem+'.json'\r\n",
        "anotacion= json.loads(open(str(files[0].parent.parent/'annotations'/n)).read())\r\n",
        "L = ['5','5','5','8','8','10','10']\r\n",
        "k = 0\r\n",
        "for elemento in anotacion:\r\n",
        "  if 'nota' in elemento['label']:\r\n",
        "    xmin,ymin,xmax,ymax = elemento['box']\r\n",
        "    nota = pents[:,xmin:xmax]\r\n",
        "    fig, ax = plt.subplots(1,1,figsize=(2,2))\r\n",
        "    ax.imshow(img[:,xmin:xmax])\r\n",
        "    cv2.imwrite('/content/notas/'+L[k]+'/nota1035-'+str(k)+'-'+'.jpg',img[:,xmin:xmax])\r\n",
        "    k = k + 1"
      ],
      "execution_count": 25,
      "outputs": [
        {
          "output_type": "display_data",
          "data": {
            "image/png": "[encoded data removed]",
            "text/plain": [
              "<Figure size 144x144 with 1 Axes>"
            ]
          },
          "metadata": {
            "tags": [],
            "needs_background": "light"
          }
        },
        {
          "output_type": "display_data",
          "data": {
            "image/png": "[encoded data removed]",
            "text/plain": [
              "<Figure size 144x144 with 1 Axes>"
            ]
          },
          "metadata": {
            "tags": [],
            "needs_background": "light"
          }
        },
        {
          "output_type": "display_data",
          "data": {
            "image/png": "[encoded data removed]",
            "text/plain": [
              "<Figure size 144x144 with 1 Axes>"
            ]
          },
          "metadata": {
            "tags": [],
            "needs_background": "light"
          }
        },
        {
          "output_type": "display_data",
          "data": {
            "image/png": "[encoded data removed]",
            "text/plain": [
              "<Figure size 144x144 with 1 Axes>"
            ]
          },
          "metadata": {
            "tags": [],
            "needs_background": "light"
          }
        },
        {
          "output_type": "display_data",
          "data": {
            "image/png": "[encoded data removed]",
            "text/plain": [
              "<Figure size 144x144 with 1 Axes>"
            ]
          },
          "metadata": {
            "tags": [],
            "needs_background": "light"
          }
        },
        {
          "output_type": "display_data",
          "data": {
            "image/png": "[encoded data removed]",
            "text/plain": [
              "<Figure size 144x144 with 1 Axes>"
            ]
          },
          "metadata": {
            "tags": [],
            "needs_background": "light"
          }
        },
        {
          "output_type": "display_data",
          "data": {
            "image/png": "[encoded data removed]",
            "text/plain": [
              "<Figure size 144x144 with 1 Axes>"
            ]
          },
          "metadata": {
            "tags": [],
            "needs_background": "light"
          }
        }
      ]
    }
  ]
}