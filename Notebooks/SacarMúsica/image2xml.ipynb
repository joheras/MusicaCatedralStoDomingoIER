{
  "nbformat": 4,
  "nbformat_minor": 0,
  "metadata": {
    "colab": {
      "name": "image2xml.ipynb",
      "provenance": [],
      "toc_visible": true,
      "authorship_tag": "ABX9TyMt68Qtvo/sOnlSb7x0BXfH",
      "include_colab_link": true
    },
    "kernelspec": {
      "name": "python3",
      "display_name": "Python 3"
    },
    "language_info": {
      "name": "python"
    },
    "accelerator": "GPU",
    "widgets": {
      "application/vnd.jupyter.widget-state+json": {
        "bd6143f62aa448709301df8e2b555b4d": {
          "model_module": "@jupyter-widgets/controls",
          "model_name": "HBoxModel",
          "state": {
            "_view_name": "HBoxView",
            "_dom_classes": [],
            "_model_name": "HBoxModel",
            "_view_module": "@jupyter-widgets/controls",
            "_model_module_version": "1.5.0",
            "_view_count": null,
            "_view_module_version": "1.5.0",
            "box_style": "",
            "layout": "IPY_MODEL_9fea3594c400485a9ccb08b8628232c1",
            "_model_module": "@jupyter-widgets/controls",
            "children": [
              "IPY_MODEL_4c618590fad9498289ee51610b56c45a",
              "IPY_MODEL_bd7fa3afcae34c4098e4ebc312bd93e7",
              "IPY_MODEL_23b19e2386f240dd8715176085edbfb0"
            ]
          }
        },
        "9fea3594c400485a9ccb08b8628232c1": {
          "model_module": "@jupyter-widgets/base",
          "model_name": "LayoutModel",
          "state": {
            "_view_name": "LayoutView",
            "grid_template_rows": null,
            "right": null,
            "justify_content": null,
            "_view_module": "@jupyter-widgets/base",
            "overflow": null,
            "_model_module_version": "1.2.0",
            "_view_count": null,
            "flex_flow": null,
            "width": null,
            "min_width": null,
            "border": null,
            "align_items": null,
            "bottom": null,
            "_model_module": "@jupyter-widgets/base",
            "top": null,
            "grid_column": null,
            "overflow_y": null,
            "overflow_x": null,
            "grid_auto_flow": null,
            "grid_area": null,
            "grid_template_columns": null,
            "flex": null,
            "_model_name": "LayoutModel",
            "justify_items": null,
            "grid_row": null,
            "max_height": null,
            "align_content": null,
            "visibility": null,
            "align_self": null,
            "height": null,
            "min_height": null,
            "padding": null,
            "grid_auto_rows": null,
            "grid_gap": null,
            "max_width": null,
            "order": null,
            "_view_module_version": "1.2.0",
            "grid_template_areas": null,
            "object_position": null,
            "object_fit": null,
            "grid_auto_columns": null,
            "margin": null,
            "display": null,
            "left": null
          }
        },
        "4c618590fad9498289ee51610b56c45a": {
          "model_module": "@jupyter-widgets/controls",
          "model_name": "HTMLModel",
          "state": {
            "_view_name": "HTMLView",
            "style": "IPY_MODEL_633e3364072948ec89547bd724590151",
            "_dom_classes": [],
            "description": "",
            "_model_name": "HTMLModel",
            "placeholder": "​",
            "_view_module": "@jupyter-widgets/controls",
            "_model_module_version": "1.5.0",
            "value": "100%",
            "_view_count": null,
            "_view_module_version": "1.5.0",
            "description_tooltip": null,
            "_model_module": "@jupyter-widgets/controls",
            "layout": "IPY_MODEL_f6ca79a35e674144a734ea3d1e44fff4"
          }
        },
        "bd7fa3afcae34c4098e4ebc312bd93e7": {
          "model_module": "@jupyter-widgets/controls",
          "model_name": "FloatProgressModel",
          "state": {
            "_view_name": "ProgressView",
            "style": "IPY_MODEL_573d8cd3f2b74feaa8afac1610e11a90",
            "_dom_classes": [],
            "description": "",
            "_model_name": "FloatProgressModel",
            "bar_style": "success",
            "max": 1,
            "_view_module": "@jupyter-widgets/controls",
            "_model_module_version": "1.5.0",
            "value": 1,
            "_view_count": null,
            "_view_module_version": "1.5.0",
            "orientation": "horizontal",
            "min": 0,
            "description_tooltip": null,
            "_model_module": "@jupyter-widgets/controls",
            "layout": "IPY_MODEL_214d950ff07645b1a5590a48950cd40d"
          }
        },
        "23b19e2386f240dd8715176085edbfb0": {
          "model_module": "@jupyter-widgets/controls",
          "model_name": "HTMLModel",
          "state": {
            "_view_name": "HTMLView",
            "style": "IPY_MODEL_1c73ab2a90404acabe0d39b646dc3b4e",
            "_dom_classes": [],
            "description": "",
            "_model_name": "HTMLModel",
            "placeholder": "​",
            "_view_module": "@jupyter-widgets/controls",
            "_model_module_version": "1.5.0",
            "value": " 1/1 [00:06&lt;00:00,  7.00s/it]",
            "_view_count": null,
            "_view_module_version": "1.5.0",
            "description_tooltip": null,
            "_model_module": "@jupyter-widgets/controls",
            "layout": "IPY_MODEL_b9bd0a01927745c4abdbd1d140d06c17"
          }
        },
        "633e3364072948ec89547bd724590151": {
          "model_module": "@jupyter-widgets/controls",
          "model_name": "DescriptionStyleModel",
          "state": {
            "_view_name": "StyleView",
            "_model_name": "DescriptionStyleModel",
            "description_width": "",
            "_view_module": "@jupyter-widgets/base",
            "_model_module_version": "1.5.0",
            "_view_count": null,
            "_view_module_version": "1.2.0",
            "_model_module": "@jupyter-widgets/controls"
          }
        },
        "f6ca79a35e674144a734ea3d1e44fff4": {
          "model_module": "@jupyter-widgets/base",
          "model_name": "LayoutModel",
          "state": {
            "_view_name": "LayoutView",
            "grid_template_rows": null,
            "right": null,
            "justify_content": null,
            "_view_module": "@jupyter-widgets/base",
            "overflow": null,
            "_model_module_version": "1.2.0",
            "_view_count": null,
            "flex_flow": null,
            "width": null,
            "min_width": null,
            "border": null,
            "align_items": null,
            "bottom": null,
            "_model_module": "@jupyter-widgets/base",
            "top": null,
            "grid_column": null,
            "overflow_y": null,
            "overflow_x": null,
            "grid_auto_flow": null,
            "grid_area": null,
            "grid_template_columns": null,
            "flex": null,
            "_model_name": "LayoutModel",
            "justify_items": null,
            "grid_row": null,
            "max_height": null,
            "align_content": null,
            "visibility": null,
            "align_self": null,
            "height": null,
            "min_height": null,
            "padding": null,
            "grid_auto_rows": null,
            "grid_gap": null,
            "max_width": null,
            "order": null,
            "_view_module_version": "1.2.0",
            "grid_template_areas": null,
            "object_position": null,
            "object_fit": null,
            "grid_auto_columns": null,
            "margin": null,
            "display": null,
            "left": null
          }
        },
        "573d8cd3f2b74feaa8afac1610e11a90": {
          "model_module": "@jupyter-widgets/controls",
          "model_name": "ProgressStyleModel",
          "state": {
            "_view_name": "StyleView",
            "_model_name": "ProgressStyleModel",
            "description_width": "",
            "_view_module": "@jupyter-widgets/base",
            "_model_module_version": "1.5.0",
            "_view_count": null,
            "_view_module_version": "1.2.0",
            "bar_color": null,
            "_model_module": "@jupyter-widgets/controls"
          }
        },
        "214d950ff07645b1a5590a48950cd40d": {
          "model_module": "@jupyter-widgets/base",
          "model_name": "LayoutModel",
          "state": {
            "_view_name": "LayoutView",
            "grid_template_rows": null,
            "right": null,
            "justify_content": null,
            "_view_module": "@jupyter-widgets/base",
            "overflow": null,
            "_model_module_version": "1.2.0",
            "_view_count": null,
            "flex_flow": null,
            "width": null,
            "min_width": null,
            "border": null,
            "align_items": null,
            "bottom": null,
            "_model_module": "@jupyter-widgets/base",
            "top": null,
            "grid_column": null,
            "overflow_y": null,
            "overflow_x": null,
            "grid_auto_flow": null,
            "grid_area": null,
            "grid_template_columns": null,
            "flex": null,
            "_model_name": "LayoutModel",
            "justify_items": null,
            "grid_row": null,
            "max_height": null,
            "align_content": null,
            "visibility": null,
            "align_self": null,
            "height": null,
            "min_height": null,
            "padding": null,
            "grid_auto_rows": null,
            "grid_gap": null,
            "max_width": null,
            "order": null,
            "_view_module_version": "1.2.0",
            "grid_template_areas": null,
            "object_position": null,
            "object_fit": null,
            "grid_auto_columns": null,
            "margin": null,
            "display": null,
            "left": null
          }
        },
        "1c73ab2a90404acabe0d39b646dc3b4e": {
          "model_module": "@jupyter-widgets/controls",
          "model_name": "DescriptionStyleModel",
          "state": {
            "_view_name": "StyleView",
            "_model_name": "DescriptionStyleModel",
            "description_width": "",
            "_view_module": "@jupyter-widgets/base",
            "_model_module_version": "1.5.0",
            "_view_count": null,
            "_view_module_version": "1.2.0",
            "_model_module": "@jupyter-widgets/controls"
          }
        },
        "b9bd0a01927745c4abdbd1d140d06c17": {
          "model_module": "@jupyter-widgets/base",
          "model_name": "LayoutModel",
          "state": {
            "_view_name": "LayoutView",
            "grid_template_rows": null,
            "right": null,
            "justify_content": null,
            "_view_module": "@jupyter-widgets/base",
            "overflow": null,
            "_model_module_version": "1.2.0",
            "_view_count": null,
            "flex_flow": null,
            "width": null,
            "min_width": null,
            "border": null,
            "align_items": null,
            "bottom": null,
            "_model_module": "@jupyter-widgets/base",
            "top": null,
            "grid_column": null,
            "overflow_y": null,
            "overflow_x": null,
            "grid_auto_flow": null,
            "grid_area": null,
            "grid_template_columns": null,
            "flex": null,
            "_model_name": "LayoutModel",
            "justify_items": null,
            "grid_row": null,
            "max_height": null,
            "align_content": null,
            "visibility": null,
            "align_self": null,
            "height": null,
            "min_height": null,
            "padding": null,
            "grid_auto_rows": null,
            "grid_gap": null,
            "max_width": null,
            "order": null,
            "_view_module_version": "1.2.0",
            "grid_template_areas": null,
            "object_position": null,
            "object_fit": null,
            "grid_auto_columns": null,
            "margin": null,
            "display": null,
            "left": null
          }
        },
        "16806459abe946978b4ff2af5b458125": {
          "model_module": "@jupyter-widgets/controls",
          "model_name": "HBoxModel",
          "state": {
            "_view_name": "HBoxView",
            "_dom_classes": [],
            "_model_name": "HBoxModel",
            "_view_module": "@jupyter-widgets/controls",
            "_model_module_version": "1.5.0",
            "_view_count": null,
            "_view_module_version": "1.5.0",
            "box_style": "",
            "layout": "IPY_MODEL_06ebb4b3387e4d41bc6eb7631ea38369",
            "_model_module": "@jupyter-widgets/controls",
            "children": [
              "IPY_MODEL_c857197696e54386ab9a7161a0946fd4",
              "IPY_MODEL_2de3342c667040bb9849c3078623c717",
              "IPY_MODEL_41a159f9f4d349fb980a3c387eeeb876"
            ]
          }
        },
        "06ebb4b3387e4d41bc6eb7631ea38369": {
          "model_module": "@jupyter-widgets/base",
          "model_name": "LayoutModel",
          "state": {
            "_view_name": "LayoutView",
            "grid_template_rows": null,
            "right": null,
            "justify_content": null,
            "_view_module": "@jupyter-widgets/base",
            "overflow": null,
            "_model_module_version": "1.2.0",
            "_view_count": null,
            "flex_flow": null,
            "width": null,
            "min_width": null,
            "border": null,
            "align_items": null,
            "bottom": null,
            "_model_module": "@jupyter-widgets/base",
            "top": null,
            "grid_column": null,
            "overflow_y": null,
            "overflow_x": null,
            "grid_auto_flow": null,
            "grid_area": null,
            "grid_template_columns": null,
            "flex": null,
            "_model_name": "LayoutModel",
            "justify_items": null,
            "grid_row": null,
            "max_height": null,
            "align_content": null,
            "visibility": null,
            "align_self": null,
            "height": null,
            "min_height": null,
            "padding": null,
            "grid_auto_rows": null,
            "grid_gap": null,
            "max_width": null,
            "order": null,
            "_view_module_version": "1.2.0",
            "grid_template_areas": null,
            "object_position": null,
            "object_fit": null,
            "grid_auto_columns": null,
            "margin": null,
            "display": null,
            "left": null
          }
        },
        "c857197696e54386ab9a7161a0946fd4": {
          "model_module": "@jupyter-widgets/controls",
          "model_name": "HTMLModel",
          "state": {
            "_view_name": "HTMLView",
            "style": "IPY_MODEL_4a2e2fd1e7ce42ea8f1fa102e6862e26",
            "_dom_classes": [],
            "description": "",
            "_model_name": "HTMLModel",
            "placeholder": "​",
            "_view_module": "@jupyter-widgets/controls",
            "_model_module_version": "1.5.0",
            "value": "100%",
            "_view_count": null,
            "_view_module_version": "1.5.0",
            "description_tooltip": null,
            "_model_module": "@jupyter-widgets/controls",
            "layout": "IPY_MODEL_58d634231e044afcb044f5559e2b29ee"
          }
        },
        "2de3342c667040bb9849c3078623c717": {
          "model_module": "@jupyter-widgets/controls",
          "model_name": "FloatProgressModel",
          "state": {
            "_view_name": "ProgressView",
            "style": "IPY_MODEL_1351bd3b453940f2a322d7084e046134",
            "_dom_classes": [],
            "description": "",
            "_model_name": "FloatProgressModel",
            "bar_style": "success",
            "max": 1,
            "_view_module": "@jupyter-widgets/controls",
            "_model_module_version": "1.5.0",
            "value": 1,
            "_view_count": null,
            "_view_module_version": "1.5.0",
            "orientation": "horizontal",
            "min": 0,
            "description_tooltip": null,
            "_model_module": "@jupyter-widgets/controls",
            "layout": "IPY_MODEL_8377a1f306304223abb66603ac97cef3"
          }
        },
        "41a159f9f4d349fb980a3c387eeeb876": {
          "model_module": "@jupyter-widgets/controls",
          "model_name": "HTMLModel",
          "state": {
            "_view_name": "HTMLView",
            "style": "IPY_MODEL_bfd0c2cbd92e411195015b88e0e7bebd",
            "_dom_classes": [],
            "description": "",
            "_model_name": "HTMLModel",
            "placeholder": "​",
            "_view_module": "@jupyter-widgets/controls",
            "_model_module_version": "1.5.0",
            "value": " 1/1 [00:06&lt;00:00,  6.75s/it]",
            "_view_count": null,
            "_view_module_version": "1.5.0",
            "description_tooltip": null,
            "_model_module": "@jupyter-widgets/controls",
            "layout": "IPY_MODEL_3a9cea6a7a1441b69d71660786a2c9b6"
          }
        },
        "4a2e2fd1e7ce42ea8f1fa102e6862e26": {
          "model_module": "@jupyter-widgets/controls",
          "model_name": "DescriptionStyleModel",
          "state": {
            "_view_name": "StyleView",
            "_model_name": "DescriptionStyleModel",
            "description_width": "",
            "_view_module": "@jupyter-widgets/base",
            "_model_module_version": "1.5.0",
            "_view_count": null,
            "_view_module_version": "1.2.0",
            "_model_module": "@jupyter-widgets/controls"
          }
        },
        "58d634231e044afcb044f5559e2b29ee": {
          "model_module": "@jupyter-widgets/base",
          "model_name": "LayoutModel",
          "state": {
            "_view_name": "LayoutView",
            "grid_template_rows": null,
            "right": null,
            "justify_content": null,
            "_view_module": "@jupyter-widgets/base",
            "overflow": null,
            "_model_module_version": "1.2.0",
            "_view_count": null,
            "flex_flow": null,
            "width": null,
            "min_width": null,
            "border": null,
            "align_items": null,
            "bottom": null,
            "_model_module": "@jupyter-widgets/base",
            "top": null,
            "grid_column": null,
            "overflow_y": null,
            "overflow_x": null,
            "grid_auto_flow": null,
            "grid_area": null,
            "grid_template_columns": null,
            "flex": null,
            "_model_name": "LayoutModel",
            "justify_items": null,
            "grid_row": null,
            "max_height": null,
            "align_content": null,
            "visibility": null,
            "align_self": null,
            "height": null,
            "min_height": null,
            "padding": null,
            "grid_auto_rows": null,
            "grid_gap": null,
            "max_width": null,
            "order": null,
            "_view_module_version": "1.2.0",
            "grid_template_areas": null,
            "object_position": null,
            "object_fit": null,
            "grid_auto_columns": null,
            "margin": null,
            "display": null,
            "left": null
          }
        },
        "1351bd3b453940f2a322d7084e046134": {
          "model_module": "@jupyter-widgets/controls",
          "model_name": "ProgressStyleModel",
          "state": {
            "_view_name": "StyleView",
            "_model_name": "ProgressStyleModel",
            "description_width": "",
            "_view_module": "@jupyter-widgets/base",
            "_model_module_version": "1.5.0",
            "_view_count": null,
            "_view_module_version": "1.2.0",
            "bar_color": null,
            "_model_module": "@jupyter-widgets/controls"
          }
        },
        "8377a1f306304223abb66603ac97cef3": {
          "model_module": "@jupyter-widgets/base",
          "model_name": "LayoutModel",
          "state": {
            "_view_name": "LayoutView",
            "grid_template_rows": null,
            "right": null,
            "justify_content": null,
            "_view_module": "@jupyter-widgets/base",
            "overflow": null,
            "_model_module_version": "1.2.0",
            "_view_count": null,
            "flex_flow": null,
            "width": null,
            "min_width": null,
            "border": null,
            "align_items": null,
            "bottom": null,
            "_model_module": "@jupyter-widgets/base",
            "top": null,
            "grid_column": null,
            "overflow_y": null,
            "overflow_x": null,
            "grid_auto_flow": null,
            "grid_area": null,
            "grid_template_columns": null,
            "flex": null,
            "_model_name": "LayoutModel",
            "justify_items": null,
            "grid_row": null,
            "max_height": null,
            "align_content": null,
            "visibility": null,
            "align_self": null,
            "height": null,
            "min_height": null,
            "padding": null,
            "grid_auto_rows": null,
            "grid_gap": null,
            "max_width": null,
            "order": null,
            "_view_module_version": "1.2.0",
            "grid_template_areas": null,
            "object_position": null,
            "object_fit": null,
            "grid_auto_columns": null,
            "margin": null,
            "display": null,
            "left": null
          }
        },
        "bfd0c2cbd92e411195015b88e0e7bebd": {
          "model_module": "@jupyter-widgets/controls",
          "model_name": "DescriptionStyleModel",
          "state": {
            "_view_name": "StyleView",
            "_model_name": "DescriptionStyleModel",
            "description_width": "",
            "_view_module": "@jupyter-widgets/base",
            "_model_module_version": "1.5.0",
            "_view_count": null,
            "_view_module_version": "1.2.0",
            "_model_module": "@jupyter-widgets/controls"
          }
        },
        "3a9cea6a7a1441b69d71660786a2c9b6": {
          "model_module": "@jupyter-widgets/base",
          "model_name": "LayoutModel",
          "state": {
            "_view_name": "LayoutView",
            "grid_template_rows": null,
            "right": null,
            "justify_content": null,
            "_view_module": "@jupyter-widgets/base",
            "overflow": null,
            "_model_module_version": "1.2.0",
            "_view_count": null,
            "flex_flow": null,
            "width": null,
            "min_width": null,
            "border": null,
            "align_items": null,
            "bottom": null,
            "_model_module": "@jupyter-widgets/base",
            "top": null,
            "grid_column": null,
            "overflow_y": null,
            "overflow_x": null,
            "grid_auto_flow": null,
            "grid_area": null,
            "grid_template_columns": null,
            "flex": null,
            "_model_name": "LayoutModel",
            "justify_items": null,
            "grid_row": null,
            "max_height": null,
            "align_content": null,
            "visibility": null,
            "align_self": null,
            "height": null,
            "min_height": null,
            "padding": null,
            "grid_auto_rows": null,
            "grid_gap": null,
            "max_width": null,
            "order": null,
            "_view_module_version": "1.2.0",
            "grid_template_areas": null,
            "object_position": null,
            "object_fit": null,
            "grid_auto_columns": null,
            "margin": null,
            "display": null,
            "left": null
          }
        },
        "f2eefa935e784c9db7780dbe2b1ed092": {
          "model_module": "@jupyter-widgets/controls",
          "model_name": "HBoxModel",
          "state": {
            "_view_name": "HBoxView",
            "_dom_classes": [],
            "_model_name": "HBoxModel",
            "_view_module": "@jupyter-widgets/controls",
            "_model_module_version": "1.5.0",
            "_view_count": null,
            "_view_module_version": "1.5.0",
            "box_style": "",
            "layout": "IPY_MODEL_d286754b6eba4bb897d27c0a17bd1f32",
            "_model_module": "@jupyter-widgets/controls",
            "children": [
              "IPY_MODEL_4dc6fdb8b9b34bbcbbd7ea4e57c43c41",
              "IPY_MODEL_4d277afee7f44e53be26558fd580d9eb",
              "IPY_MODEL_17aa1613f3be4a3c8ae3f2259acb37fd"
            ]
          }
        },
        "d286754b6eba4bb897d27c0a17bd1f32": {
          "model_module": "@jupyter-widgets/base",
          "model_name": "LayoutModel",
          "state": {
            "_view_name": "LayoutView",
            "grid_template_rows": null,
            "right": null,
            "justify_content": null,
            "_view_module": "@jupyter-widgets/base",
            "overflow": null,
            "_model_module_version": "1.2.0",
            "_view_count": null,
            "flex_flow": null,
            "width": null,
            "min_width": null,
            "border": null,
            "align_items": null,
            "bottom": null,
            "_model_module": "@jupyter-widgets/base",
            "top": null,
            "grid_column": null,
            "overflow_y": null,
            "overflow_x": null,
            "grid_auto_flow": null,
            "grid_area": null,
            "grid_template_columns": null,
            "flex": null,
            "_model_name": "LayoutModel",
            "justify_items": null,
            "grid_row": null,
            "max_height": null,
            "align_content": null,
            "visibility": null,
            "align_self": null,
            "height": null,
            "min_height": null,
            "padding": null,
            "grid_auto_rows": null,
            "grid_gap": null,
            "max_width": null,
            "order": null,
            "_view_module_version": "1.2.0",
            "grid_template_areas": null,
            "object_position": null,
            "object_fit": null,
            "grid_auto_columns": null,
            "margin": null,
            "display": null,
            "left": null
          }
        },
        "4dc6fdb8b9b34bbcbbd7ea4e57c43c41": {
          "model_module": "@jupyter-widgets/controls",
          "model_name": "HTMLModel",
          "state": {
            "_view_name": "HTMLView",
            "style": "IPY_MODEL_6795ae6017da46ebaf94af8158670907",
            "_dom_classes": [],
            "description": "",
            "_model_name": "HTMLModel",
            "placeholder": "​",
            "_view_module": "@jupyter-widgets/controls",
            "_model_module_version": "1.5.0",
            "value": "100%",
            "_view_count": null,
            "_view_module_version": "1.5.0",
            "description_tooltip": null,
            "_model_module": "@jupyter-widgets/controls",
            "layout": "IPY_MODEL_b3828c6c2a3748d5b4216fac7f3151b1"
          }
        },
        "4d277afee7f44e53be26558fd580d9eb": {
          "model_module": "@jupyter-widgets/controls",
          "model_name": "FloatProgressModel",
          "state": {
            "_view_name": "ProgressView",
            "style": "IPY_MODEL_03314accafb14fb1af9fb21695720183",
            "_dom_classes": [],
            "description": "",
            "_model_name": "FloatProgressModel",
            "bar_style": "success",
            "max": 1,
            "_view_module": "@jupyter-widgets/controls",
            "_model_module_version": "1.5.0",
            "value": 1,
            "_view_count": null,
            "_view_module_version": "1.5.0",
            "orientation": "horizontal",
            "min": 0,
            "description_tooltip": null,
            "_model_module": "@jupyter-widgets/controls",
            "layout": "IPY_MODEL_cb460aa772224aa09c342e1c203cc8c8"
          }
        },
        "17aa1613f3be4a3c8ae3f2259acb37fd": {
          "model_module": "@jupyter-widgets/controls",
          "model_name": "HTMLModel",
          "state": {
            "_view_name": "HTMLView",
            "style": "IPY_MODEL_436b89b86aa0479fa155c94621bd7d1b",
            "_dom_classes": [],
            "description": "",
            "_model_name": "HTMLModel",
            "placeholder": "​",
            "_view_module": "@jupyter-widgets/controls",
            "_model_module_version": "1.5.0",
            "value": " 1/1 [00:06&lt;00:00,  6.59s/it]",
            "_view_count": null,
            "_view_module_version": "1.5.0",
            "description_tooltip": null,
            "_model_module": "@jupyter-widgets/controls",
            "layout": "IPY_MODEL_61d08e24ac4b4da48b1203da09285755"
          }
        },
        "6795ae6017da46ebaf94af8158670907": {
          "model_module": "@jupyter-widgets/controls",
          "model_name": "DescriptionStyleModel",
          "state": {
            "_view_name": "StyleView",
            "_model_name": "DescriptionStyleModel",
            "description_width": "",
            "_view_module": "@jupyter-widgets/base",
            "_model_module_version": "1.5.0",
            "_view_count": null,
            "_view_module_version": "1.2.0",
            "_model_module": "@jupyter-widgets/controls"
          }
        },
        "b3828c6c2a3748d5b4216fac7f3151b1": {
          "model_module": "@jupyter-widgets/base",
          "model_name": "LayoutModel",
          "state": {
            "_view_name": "LayoutView",
            "grid_template_rows": null,
            "right": null,
            "justify_content": null,
            "_view_module": "@jupyter-widgets/base",
            "overflow": null,
            "_model_module_version": "1.2.0",
            "_view_count": null,
            "flex_flow": null,
            "width": null,
            "min_width": null,
            "border": null,
            "align_items": null,
            "bottom": null,
            "_model_module": "@jupyter-widgets/base",
            "top": null,
            "grid_column": null,
            "overflow_y": null,
            "overflow_x": null,
            "grid_auto_flow": null,
            "grid_area": null,
            "grid_template_columns": null,
            "flex": null,
            "_model_name": "LayoutModel",
            "justify_items": null,
            "grid_row": null,
            "max_height": null,
            "align_content": null,
            "visibility": null,
            "align_self": null,
            "height": null,
            "min_height": null,
            "padding": null,
            "grid_auto_rows": null,
            "grid_gap": null,
            "max_width": null,
            "order": null,
            "_view_module_version": "1.2.0",
            "grid_template_areas": null,
            "object_position": null,
            "object_fit": null,
            "grid_auto_columns": null,
            "margin": null,
            "display": null,
            "left": null
          }
        },
        "03314accafb14fb1af9fb21695720183": {
          "model_module": "@jupyter-widgets/controls",
          "model_name": "ProgressStyleModel",
          "state": {
            "_view_name": "StyleView",
            "_model_name": "ProgressStyleModel",
            "description_width": "",
            "_view_module": "@jupyter-widgets/base",
            "_model_module_version": "1.5.0",
            "_view_count": null,
            "_view_module_version": "1.2.0",
            "bar_color": null,
            "_model_module": "@jupyter-widgets/controls"
          }
        },
        "cb460aa772224aa09c342e1c203cc8c8": {
          "model_module": "@jupyter-widgets/base",
          "model_name": "LayoutModel",
          "state": {
            "_view_name": "LayoutView",
            "grid_template_rows": null,
            "right": null,
            "justify_content": null,
            "_view_module": "@jupyter-widgets/base",
            "overflow": null,
            "_model_module_version": "1.2.0",
            "_view_count": null,
            "flex_flow": null,
            "width": null,
            "min_width": null,
            "border": null,
            "align_items": null,
            "bottom": null,
            "_model_module": "@jupyter-widgets/base",
            "top": null,
            "grid_column": null,
            "overflow_y": null,
            "overflow_x": null,
            "grid_auto_flow": null,
            "grid_area": null,
            "grid_template_columns": null,
            "flex": null,
            "_model_name": "LayoutModel",
            "justify_items": null,
            "grid_row": null,
            "max_height": null,
            "align_content": null,
            "visibility": null,
            "align_self": null,
            "height": null,
            "min_height": null,
            "padding": null,
            "grid_auto_rows": null,
            "grid_gap": null,
            "max_width": null,
            "order": null,
            "_view_module_version": "1.2.0",
            "grid_template_areas": null,
            "object_position": null,
            "object_fit": null,
            "grid_auto_columns": null,
            "margin": null,
            "display": null,
            "left": null
          }
        },
        "436b89b86aa0479fa155c94621bd7d1b": {
          "model_module": "@jupyter-widgets/controls",
          "model_name": "DescriptionStyleModel",
          "state": {
            "_view_name": "StyleView",
            "_model_name": "DescriptionStyleModel",
            "description_width": "",
            "_view_module": "@jupyter-widgets/base",
            "_model_module_version": "1.5.0",
            "_view_count": null,
            "_view_module_version": "1.2.0",
            "_model_module": "@jupyter-widgets/controls"
          }
        },
        "61d08e24ac4b4da48b1203da09285755": {
          "model_module": "@jupyter-widgets/base",
          "model_name": "LayoutModel",
          "state": {
            "_view_name": "LayoutView",
            "grid_template_rows": null,
            "right": null,
            "justify_content": null,
            "_view_module": "@jupyter-widgets/base",
            "overflow": null,
            "_model_module_version": "1.2.0",
            "_view_count": null,
            "flex_flow": null,
            "width": null,
            "min_width": null,
            "border": null,
            "align_items": null,
            "bottom": null,
            "_model_module": "@jupyter-widgets/base",
            "top": null,
            "grid_column": null,
            "overflow_y": null,
            "overflow_x": null,
            "grid_auto_flow": null,
            "grid_area": null,
            "grid_template_columns": null,
            "flex": null,
            "_model_name": "LayoutModel",
            "justify_items": null,
            "grid_row": null,
            "max_height": null,
            "align_content": null,
            "visibility": null,
            "align_self": null,
            "height": null,
            "min_height": null,
            "padding": null,
            "grid_auto_rows": null,
            "grid_gap": null,
            "max_width": null,
            "order": null,
            "_view_module_version": "1.2.0",
            "grid_template_areas": null,
            "object_position": null,
            "object_fit": null,
            "grid_auto_columns": null,
            "margin": null,
            "display": null,
            "left": null
          }
        }
      }
    }
  },
  "cells": [
    {
      "cell_type": "markdown",
      "metadata": {
        "id": "view-in-github",
        "colab_type": "text"
      },
      "source": [
        "<a href=\"https://colab.research.google.com/github/joheras/MusicaCatedralStoDomingoIER/blob/main/Notebooks/SacarM%C3%BAsica/image2xml.ipynb\" target=\"_parent\"><img src=\"https://colab.research.google.com/assets/colab-badge.svg\" alt=\"Open In Colab\"/></a>"
      ]
    },
    {
      "cell_type": "markdown",
      "metadata": {
        "id": "XsWrQDuQzgER"
      },
      "source": [
        "# input.jpg $\\rightarrow$ output.xml\n",
        "### Cuaderon para transformar las predicciones al formato musicxml"
      ]
    },
    {
      "cell_type": "markdown",
      "metadata": {
        "id": "irZf7Tf-z0n3"
      },
      "source": [
        "## Librerías"
      ]
    },
    {
      "cell_type": "code",
      "metadata": {
        "id": "jYFaTUzGXZEM"
      },
      "source": [
        "%%capture\n",
        "pip install py_midicsv"
      ],
      "execution_count": 2,
      "outputs": []
    },
    {
      "cell_type": "code",
      "metadata": {
        "id": "l-6II1zFXa1u"
      },
      "source": [
        "%%capture\n",
        "pip install MIDIUtil"
      ],
      "execution_count": 3,
      "outputs": []
    },
    {
      "cell_type": "code",
      "metadata": {
        "id": "jNdS6oDRXefJ"
      },
      "source": [
        "%%capture\n",
        "pip install pretty_midi"
      ],
      "execution_count": 4,
      "outputs": []
    },
    {
      "cell_type": "code",
      "metadata": {
        "id": "C_fP4txKMRJC"
      },
      "source": [
        "%%capture\n",
        "!pip install icevision[all]==0.5.1"
      ],
      "execution_count": 5,
      "outputs": []
    },
    {
      "cell_type": "code",
      "metadata": {
        "id": "Vr6Qv3WguvsF"
      },
      "source": [
        "%%capture\n",
        "!pip install torchtext==0.8.1"
      ],
      "execution_count": 6,
      "outputs": []
    },
    {
      "cell_type": "code",
      "metadata": {
        "id": "ZnOG4Q21_NuI"
      },
      "source": [
        "%%capture\n",
        "!pip install fastai --upgrade"
      ],
      "execution_count": 7,
      "outputs": []
    },
    {
      "cell_type": "code",
      "metadata": {
        "id": "Hb78TEACykyo"
      },
      "source": [
        "%%capture\n",
        "!sudo apt install tesseract-ocr\n",
        "!sudo apt-get install tesseract-ocr-spa\n",
        "!pip install pytesseract\n",
        "!pip install tesseract"
      ],
      "execution_count": 8,
      "outputs": []
    },
    {
      "cell_type": "code",
      "metadata": {
        "id": "qE5LjIRr02sY"
      },
      "source": [
        "from icevision.all import *\n",
        "from fastai.vision.all import *\n",
        "import cv2\n",
        "import pickle\n",
        "import midiutil\n",
        "import pretty_midi\n",
        "from pytesseract import Output\n",
        "import pytesseract\n",
        "import IPython.display as ipd\n",
        "import numpy as np\n",
        "import pandas as pd\n",
        "from matplotlib import pyplot as plt\n",
        "from matplotlib import patches\n",
        "from matplotlib import colors\n",
        "import statistics\n",
        "import py_midicsv as pm\n",
        "import random\n",
        "import operator\n",
        "import pickle\n",
        "import sys\n",
        "import os\n",
        "import json\n",
        "import music21 as m21"
      ],
      "execution_count": 1,
      "outputs": []
    },
    {
      "cell_type": "code",
      "metadata": {
        "id": "PVXT1_vOOEMU"
      },
      "source": [
        "import warnings\n",
        "warnings.filterwarnings(\"ignore\", category=FutureWarning)\n",
        "warnings.filterwarnings(\"ignore\", category=DeprecationWarning)"
      ],
      "execution_count": 2,
      "outputs": []
    },
    {
      "cell_type": "markdown",
      "metadata": {
        "id": "NojspdWi06UX"
      },
      "source": [
        "## Dataset y funciones"
      ]
    },
    {
      "cell_type": "code",
      "metadata": {
        "id": "nz8NqEGc08QP"
      },
      "source": [
        "%%capture\n",
        "!wget https://www.dropbox.com/s/u2ekoltvu35kfjw/Fotos.zip?dl=1 -O Fotos.zip\n",
        "!unzip Fotos.zip"
      ],
      "execution_count": 3,
      "outputs": []
    },
    {
      "cell_type": "code",
      "metadata": {
        "id": "DNjJ-GaAwcDo"
      },
      "source": [
        "with open(\"Obras_final.pickle\", \"rb\") as f:\n",
        "    Obras_final = pickle.load(f)\n",
        "with open(\"ini_Obras.pickle\", \"rb\") as f:\n",
        "    ini_Obras = pickle.load(f)"
      ],
      "execution_count": 4,
      "outputs": []
    },
    {
      "cell_type": "code",
      "metadata": {
        "id": "DXc8UD4Xyem4"
      },
      "source": [
        "def mostrarImagen(img):\n",
        "  fig, ax = plt.subplots(1,1,figsize=(16,16))\n",
        "  ax.imshow(img,cmap=plt.cm.binary)\n",
        "  ax.axis('off')\n",
        "  ax.xaxis.set_ticklabels([])\n",
        "  ax.yaxis.set_ticklabels([])\n",
        "  plt.show()"
      ],
      "execution_count": 5,
      "outputs": []
    },
    {
      "cell_type": "code",
      "metadata": {
        "id": "PznlFoBzDrUk"
      },
      "source": [
        "import xml.etree.ElementTree as ET\n",
        "from xml.dom import minidom\n",
        "\n",
        "\n",
        "def prettify(elem):\n",
        "    \"\"\"Return a pretty-printed XML string for the Element.\n",
        "    \"\"\"\n",
        "    rough_string = ET.tostring(elem, 'utf-8')\n",
        "    reparsed = minidom.parseString(rough_string)\n",
        "    return reparsed.toprettyxml(indent=\"  \")"
      ],
      "execution_count": 6,
      "outputs": []
    },
    {
      "cell_type": "markdown",
      "metadata": {
        "id": "t0ypPWrap2SJ"
      },
      "source": [
        "- **Para devolver una lista con los símbolos musicales**"
      ]
    },
    {
      "cell_type": "code",
      "metadata": {
        "id": "GRGcU-KF1co5"
      },
      "source": [
        "def get_iou(bb1, bb2):\n",
        "    assert bb1[0] < bb1[2]\n",
        "    assert bb1[1] < bb1[3]\n",
        "    assert bb2[0] < bb2[2]\n",
        "    assert bb2[1] < bb2[3]\n",
        "    x_left = max(bb1[0], bb2[0])\n",
        "    y_top = max(bb1[1], bb2[1])\n",
        "    x_right = min(bb1[2], bb2[2])\n",
        "    y_bottom = min(bb1[3], bb2[3])\n",
        "    if x_right < x_left or y_bottom < y_top:\n",
        "        return 0.0\n",
        "    intersection_area = (x_right - x_left) * (y_bottom - y_top)\n",
        "    bb1_area = (bb1[2] - bb1[0]) * (bb1[3] - bb1[1])\n",
        "    bb2_area = (bb2[2] - bb2[0]) * (bb2[3] - bb2[1])\n",
        "    iou = intersection_area / float(bb1_area + bb2_area - intersection_area)\n",
        "    assert iou >= 0.0\n",
        "    assert iou <= 1.0\n",
        "    return iou"
      ],
      "execution_count": 7,
      "outputs": []
    },
    {
      "cell_type": "code",
      "metadata": {
        "id": "JRtlkBI0ktg1"
      },
      "source": [
        "def remove_notas(bboxs,labels,scores):\n",
        "  n = len(bboxs)\n",
        "  L = []\n",
        "  for i in range(0,n):\n",
        "    k = len(bboxs[i:])\n",
        "    bb1 = bboxs[i]\n",
        "    l1 = labels[i]\n",
        "    s1 = scores[i]\n",
        "    for j in range(0,k):\n",
        "      bb2 = bboxs[i:][j]\n",
        "      l2 = labels[i:][j]\n",
        "      s2 = scores[i:][j]\n",
        "      if bb1[2]-bb1[0] >= 55 and 'nota' in l1:\n",
        "        L.append(i)\n",
        "      elif get_iou(bb1, bb2) > 0.5 and 'nota' in l1 and 'nota' in l2:\n",
        "        if l1 > l2:\n",
        "          L.append(i+j)\n",
        "        if l1 < l2:\n",
        "          L.append(i)\n",
        "        if l1 == l2 and get_iou(bb1, bb2) < 1:\n",
        "          if s1 > s2:\n",
        "            L.append(i+j)\n",
        "          else:\n",
        "            L.append(i)\n",
        "  L = list(np.unique(L))\n",
        "  b,l,s = [],[],[]\n",
        "  for i in range(0,n):\n",
        "    if not(i in L):\n",
        "      b.append(bboxs[i])\n",
        "      l.append(labels[i])\n",
        "      s.append(scores[i])\n",
        "  return b,l,s"
      ],
      "execution_count": 8,
      "outputs": []
    },
    {
      "cell_type": "code",
      "metadata": {
        "id": "itb-D2561Wz6"
      },
      "source": [
        "d={'background':0,'claved':1, 'claves':2, 'clavef':3, 'nota1':4, 'nota2':5, 'nota4':6, 'nota1:2':7, 'nota1:4':8, 'notae':9, 'sos':10, 'bem':11, 'bec':12, 'sil0':13, 'sil1':14, 'sil2':15, 'sil1:2':16, 'sil1:4':17, '2x4':18, '3x4':19, '4x4':20, '6x8':21, 'punt':22, 'liga':23,'3':24,'line':25,'P2':26, 'nota1:8':27, 'cal':28, '3x2':29,'mf':30,'P1':31,'check':32,'3x8':33,'2x2':34}\n",
        "d = {v: k for k, v in d.items()}\n",
        "\n",
        "def qsort(bboxs,labels,scores):\n",
        "  if bboxs == []:\n",
        "    return bboxs,labels,scores\n",
        "  bbox = bboxs[0]\n",
        "  label = labels[0]\n",
        "  score = scores[0]\n",
        "  n = len(labels[1:])\n",
        "  bboxsL,labelsL,scoresL = qsort([b for b in bboxs[1:] if b[0] < bbox[0]],[labels[1:][i] for i in range(0,n) if bboxs[1:][i][0] < bbox[0]],[scores[1:][i] for i in range(0,n) if bboxs[1:][i][0] < bbox[0]])\n",
        "  bboxsU,labelsU,scoresU = qsort([b for b in bboxs[1:] if b[0] >= bbox[0]],[labels[1:][i] for i in range(0,n) if bboxs[1:][i][0] >= bbox[0]],[scores[1:][i] for i in range(0,n) if bboxs[1:][i][0] >= bbox[0]])\n",
        "\n",
        "  return bboxsL + [bbox] + bboxsU, labelsL + [label] + labelsU, scoresL + [score] + scoresU\n",
        "\n",
        "def pent_image2pred(test):\n",
        "  if type(test) == str:\n",
        "    test = cv2.imread(test)\n",
        "  Y,X,_=test.shape\n",
        "  infer_tfms = tfms.A.Adapter([*tfms.A.resize_and_pad(size=923), tfms.A.Normalize()])\n",
        "  infer_ds = Dataset.from_images([test], infer_tfms)\n",
        "  infer_dl = faster_rcnn.infer_dl(infer_ds, batch_size=1)\n",
        "  samples, preds = faster_rcnn.predict_dl(model=detector, infer_dl=infer_dl)\n",
        "  L = []\n",
        "  labels = list(preds[0]['labels'])\n",
        "  bboxs = preds[0]['bboxes']\n",
        "  for i in range(0,len(labels)):\n",
        "    xmin=bboxs[i].xmin\n",
        "    ymin=bboxs[i].ymin-(samples[0]['img'].shape[0]-samples[0]['height'])/2\n",
        "    xmax=bboxs[i].xmax\n",
        "    ymax=bboxs[i].ymax-(samples[0]['img'].shape[0]-samples[0]['height'])/2\n",
        "    xmin=int(X*xmin/samples[0]['width'])\n",
        "    ymin=int(Y*ymin/samples[0]['height'])\n",
        "    xmax=int(X*xmax/samples[0]['width'])\n",
        "    ymax=int(Y*ymax/samples[0]['height'])\n",
        "    L.append([xmin,ymin,xmax,ymax])\n",
        "  scores = list(preds[0]['scores'])\n",
        "  L,labels,scores = qsort(L,labels,scores)\n",
        "  labels = [d[l] for l in labels]\n",
        "  \n",
        "  return remove_notas(L,labels,scores)"
      ],
      "execution_count": 9,
      "outputs": []
    },
    {
      "cell_type": "code",
      "metadata": {
        "id": "V6F9sZ6cQZ0c"
      },
      "source": [
        "def image2data(test):\n",
        "  if type(test) == str:\n",
        "    test = cv2.imread(test)\n",
        "    test = cv2.cvtColor(test,cv2.COLOR_BGR2RGB)\n",
        "  Y,X,_=test.shape\n",
        "  data = {}\n",
        "\n",
        "  # Calculando los pentagramas\n",
        "  print('        Preprocesando los pentagramas:')\n",
        "  print('       --------------------------------')\n",
        "\n",
        "  aux = borrar_texto(test)\n",
        "  gray = cv2.cvtColor(aux,cv2.COLOR_RGB2GRAY)\n",
        "  (T,threshInv) = cv2.threshold(gray, 0, 255, cv2.THRESH_BINARY_INV | cv2.THRESH_OTSU)\n",
        "  dilate = cv2.dilate(threshInv.copy(),(15,1))\n",
        "  \n",
        "  for i in range(0,10):\n",
        "    dilate = cv2.dilate(dilate,(15,1))\n",
        "\n",
        "  cnts,_ = cv2.findContours(dilate.copy(), cv2.RETR_EXTERNAL, cv2.CHAIN_APPROX_SIMPLE)\n",
        "  pents = []\n",
        "  for c in cnts[::-1]:\n",
        "    area = cv2.contourArea(c)\n",
        "    if(area > 10000):\n",
        "      (x, y, w, h) = cv2.boundingRect(c) # Mejor sacar el rectángulo contenido\n",
        "      pents.append(aux[y:y+117,x:x+926])\n",
        "\n",
        "  infer_tfms = tfms.A.Adapter([*tfms.A.resize_and_pad(size=923), tfms.A.Normalize()])\n",
        "  infer_ds = Dataset.from_images(pents, infer_tfms)\n",
        "  infer_dl = faster_rcnn.infer_dl(infer_ds, batch_size=1)\n",
        "  samples, preds = faster_rcnn.predict_dl(model=detector, infer_dl=infer_dl)\n",
        "  for j in range(0,len(preds)):\n",
        "    L = []\n",
        "    labels = list(preds[j]['labels'])\n",
        "    labels = [d[l] for l in labels]\n",
        "    scores = list(preds[j]['scores'])\n",
        "    bboxs = preds[j]['bboxes']\n",
        "    for i in range(0,len(labels)):\n",
        "      xmin=bboxs[i].xmin\n",
        "      ymin=bboxs[i].ymin-(samples[j]['img'].shape[j]-samples[j]['height'])/2\n",
        "      xmax=bboxs[i].xmax\n",
        "      ymax=bboxs[i].ymax-(samples[j]['img'].shape[j]-samples[j]['height'])/2\n",
        "      xmin=int(X*xmin/samples[j]['width'])\n",
        "      ymin=int(Y*ymin/samples[j]['height'])\n",
        "      xmax=int(X*xmax/samples[j]['width'])\n",
        "      ymax=int(Y*ymax/samples[j]['height'])\n",
        "      if xmin < 0: xmin=0\n",
        "      if xmin > pents[j].shape[1]: xmin = pents[j].shape[1]-1\n",
        "      if ymin < 0: ymin=0\n",
        "      if ymin > pents[j].shape[0]: ymin = pents[j].shape[0]-1\n",
        "      if xmax < 0: xmax=1\n",
        "      if xmax > pents[j].shape[1]: xmax = pents[j].shape[1]\n",
        "      if ymax < 0: ymax=1\n",
        "      if ymax > pents[j].shape[0]: ymax = pents[j].shape[0]\n",
        "      L.append((xmin,ymin,xmax,ymax))\n",
        "      if 'nota' in labels[i]: labels[i] = labels[i]+'_'+altura_notas.predict(pents[j][:,xmin-3:xmax+3])[0]\n",
        "      if 'claved' in labels[i]:\n",
        "        pent = cv2.cvtColor(Obra,cv2.COLOR_RGB2GRAY)\n",
        "        _,pent = cv2.threshold(pent, 0, 255, cv2.THRESH_BINARY_INV | cv2.THRESH_OTSU)\n",
        "        kernel = np.ones((1,3))\n",
        "        pent = cv2.erode(pent,kernel,iterations=20)\n",
        "        cnts,_ = cv2.findContours(pent, cv2.RETR_EXTERNAL, cv2.CHAIN_APPROX_SIMPLE)\n",
        "        for c in cnts:\n",
        "          if bboxs[i] \n",
        "\n",
        "    L,labels,scores = qsort(L,labels,scores)\n",
        "    bboxs,labels,scores = remove_notas(L,labels,scores)\n",
        "    data['pent_'+str(j+1)] = {'bboxes':bboxs,'labels':labels}\n",
        "\n",
        "  # Calculando los bloques de texto\n",
        "  print('        Preprocesando el texto:')\n",
        "  print('       --------------------------------')\n",
        "\n",
        "  aux = pentagrama_Blanco(test)\n",
        "  gray = cv2.cvtColor(aux,cv2.COLOR_RGB2GRAY)\n",
        "  (T,threshInv) = cv2.threshold(gray, 0, 255, cv2.THRESH_BINARY_INV | cv2.THRESH_OTSU)\n",
        "  rectKernel=cv2.getStructuringElement(cv2.MORPH_RECT,(30,30))\n",
        "  dilate=cv2.morphologyEx(threshInv,cv2.MORPH_CLOSE,rectKernel)\n",
        "  cnts,_ = cv2.findContours(dilate.copy(), cv2.RETR_EXTERNAL, cv2.CHAIN_APPROX_SIMPLE)\n",
        "  k = 1\n",
        "  for c in cnts[::-1]:\n",
        "    area = cv2.contourArea(c)\n",
        "    if(area > 100):\n",
        "      (x, y, w, h) = cv2.boundingRect(c) # Mejor sacar el rectángulo contenido\n",
        "      cadena = pytesseract.image_to_string(test[y:y+h,x:x+w],lang=\"spa\")\n",
        "      if h < 28:\n",
        "        data['text_'+str(k)] = {'texto':cadena,'tipo':0}\n",
        "        k+=1\n",
        "      else:\n",
        "        data['text_'+str(k)] = {'texto':cadena,'tipo':1,'altura':str(Y-y)}\n",
        "        k+=1\n",
        "\n",
        "  return data"
      ],
      "execution_count": null,
      "outputs": []
    },
    {
      "cell_type": "markdown",
      "metadata": {
        "id": "rY7DtoqqqwU1"
      },
      "source": [
        "- **Para detectar y borrar pentagramas**"
      ]
    },
    {
      "cell_type": "code",
      "metadata": {
        "id": "AJ-BmNIHqy1d"
      },
      "source": [
        "def pentagramas(foto): \n",
        "  foto2 = foto.copy()\n",
        "  gray = cv2.cvtColor(foto,cv2.COLOR_RGB2GRAY)\n",
        "  (T,threshInv) = cv2.threshold(gray, 0, 255, cv2.THRESH_BINARY_INV | cv2.THRESH_OTSU)\n",
        "  dilate = cv2.dilate(threshInv.copy(),(15,1))\n",
        "  \n",
        "  for i in range(0,10):\n",
        "    dilate = cv2.dilate(dilate,(15,1))\n",
        "\n",
        "  cnts,_ = cv2.findContours(dilate.copy(), cv2.RETR_EXTERNAL, cv2.CHAIN_APPROX_SIMPLE)\n",
        "  pents = []\n",
        "  for c in cnts:\n",
        "    area = cv2.contourArea(c)\n",
        "    if(area > 10000):\n",
        "      #cv2.drawContours(foto2, [c], -1, (119, 90, 17), 2)\n",
        "      (x, y, w, h) = cv2.boundingRect(c) # Mejor sacar el rectángulo contenido\n",
        "      pents.append((x-5,y-5,926,117))\n",
        "  return pents[::-1]"
      ],
      "execution_count": 17,
      "outputs": []
    },
    {
      "cell_type": "code",
      "metadata": {
        "id": "dzSCWzfstAKJ"
      },
      "source": [
        "def pentagrama_Blanco(foto): \n",
        "  foto2 = foto.copy()\n",
        "  gray = cv2.cvtColor(foto,cv2.COLOR_RGB2GRAY)\n",
        "  (T,threshInv) = cv2.threshold(gray, 0, 255, cv2.THRESH_BINARY_INV | cv2.THRESH_OTSU)\n",
        "  dilate = cv2.dilate(threshInv.copy(),(15,1))\n",
        "  \n",
        "  for i in range(0,4):\n",
        "    dilate = cv2.dilate(dilate,(15,1))\n",
        "\n",
        "  cnts,_ = cv2.findContours(dilate.copy(), cv2.RETR_EXTERNAL, cv2.CHAIN_APPROX_SIMPLE)\n",
        "\n",
        "  for c in cnts:\n",
        "    area = cv2.contourArea(c)\n",
        "    if(area > 10000):\n",
        "      #cv2.drawContours(foto2, [c], -1, (119, 90, 17), 2)\n",
        "      (x, y, w, h) = cv2.boundingRect(c) # Mejor sacar el rectángulo contenido\n",
        "      cv2.rectangle(foto2, (x, y), (x + w, y + h), (255,255,255), -1)\n",
        "  return foto2"
      ],
      "execution_count": 18,
      "outputs": []
    },
    {
      "cell_type": "markdown",
      "metadata": {
        "id": "nhh4Af-AtFOo"
      },
      "source": [
        "- **Para detectar bloques de texto**"
      ]
    },
    {
      "cell_type": "code",
      "metadata": {
        "id": "A5HISFsitIhg"
      },
      "source": [
        "def bloques_texto(foto): \n",
        "  foto2 = foto.copy()\n",
        "  foto = pentagrama_Blanco(foto)\n",
        "  gray = cv2.cvtColor(foto,cv2.COLOR_RGB2GRAY)\n",
        "  (T,threshInv) = cv2.threshold(gray, 0, 255, cv2.THRESH_BINARY_INV | cv2.THRESH_OTSU)\n",
        "  rectKernel=cv2.getStructuringElement(cv2.MORPH_RECT,(30,30))\n",
        "  dilate=cv2.morphologyEx(threshInv,cv2.MORPH_CLOSE,rectKernel)\n",
        "  cnts,_ = cv2.findContours(dilate.copy(), cv2.RETR_EXTERNAL, cv2.CHAIN_APPROX_SIMPLE)\n",
        "  bloques = []\n",
        "  for c in cnts:\n",
        "    area = cv2.contourArea(c)\n",
        "    if(area > 100):\n",
        "      (x, y, w, h) = cv2.boundingRect(c) # Mejor sacar el rectángulo contenido\n",
        "      bloques.append((x,y,w,h))\n",
        "  return bloques[::-1]"
      ],
      "execution_count": 19,
      "outputs": []
    },
    {
      "cell_type": "code",
      "metadata": {
        "id": "E3sJ3pezBHxn"
      },
      "source": [
        "def borrar_texto(foto): \n",
        "  foto2 = foto.copy()\n",
        "  foto = pentagrama_Blanco(foto)\n",
        "  gray = cv2.cvtColor(foto,cv2.COLOR_RGB2GRAY)\n",
        "  (T,threshInv) = cv2.threshold(gray, 0, 255, cv2.THRESH_BINARY_INV | cv2.THRESH_OTSU)\n",
        "  rectKernel=cv2.getStructuringElement(cv2.MORPH_RECT,(15,15))\n",
        "  dilate=cv2.morphologyEx(threshInv,cv2.MORPH_CLOSE,rectKernel)\n",
        "  cnts,_ = cv2.findContours(dilate.copy(), cv2.RETR_EXTERNAL, cv2.CHAIN_APPROX_SIMPLE)\n",
        "  for c in cnts:\n",
        "    area = cv2.contourArea(c)\n",
        "    if(area > 100):\n",
        "      (x, y, w, h) = cv2.boundingRect(c) # Mejor sacar el rectángulo contenido\n",
        "      cv2.rectangle(foto2, (x, y-3), (x + w, y + h+3), (255,255,255), -1)\n",
        "  return foto2"
      ],
      "execution_count": 20,
      "outputs": []
    },
    {
      "cell_type": "markdown",
      "metadata": {
        "id": "J9FHDDkh1jrn"
      },
      "source": [
        "## Modelos"
      ]
    },
    {
      "cell_type": "markdown",
      "metadata": {
        "id": "5Xk33ljW1vna"
      },
      "source": [
        "- **Detección**"
      ]
    },
    {
      "cell_type": "code",
      "metadata": {
        "id": "-erFOLAa1k7P"
      },
      "source": [
        "%%capture\n",
        "state_dict = torch.load('mejor.pth')\n",
        "detector = faster_rcnn.model(num_classes=35)"
      ],
      "execution_count": 12,
      "outputs": []
    },
    {
      "cell_type": "code",
      "metadata": {
        "id": "JKOfbCrd177o",
        "colab": {
          "base_uri": "https://localhost:8080/"
        },
        "outputId": "1bb95b37-bde7-4af2-e37d-100fbd051faa"
      },
      "source": [
        "detector.load_state_dict(state_dict)"
      ],
      "execution_count": 13,
      "outputs": [
        {
          "output_type": "execute_result",
          "data": {
            "text/plain": [
              "<All keys matched successfully>"
            ]
          },
          "metadata": {
            "tags": []
          },
          "execution_count": 13
        }
      ]
    },
    {
      "cell_type": "markdown",
      "metadata": {
        "id": "FQIuxPqv15vS"
      },
      "source": [
        "- **Clasificación altura notas**"
      ]
    },
    {
      "cell_type": "code",
      "metadata": {
        "id": "N1a2_80U17pQ"
      },
      "source": [
        "%%capture\n",
        "altura_notas = load_learner('export.pkl')"
      ],
      "execution_count": 14,
      "outputs": []
    },
    {
      "cell_type": "markdown",
      "metadata": {
        "id": "RSMEAyvk3uPE"
      },
      "source": [
        "## Predicción\n",
        "- Transforma la imagen en una secuencia de elementos musicales"
      ]
    },
    {
      "cell_type": "code",
      "metadata": {
        "colab": {
          "base_uri": "https://localhost:8080/",
          "height": 506
        },
        "id": "CGnyRinHwhjK",
        "outputId": "dd38d0e5-acc3-43d3-c9b6-823cfbf9b75c"
      },
      "source": [
        "Obra = []\n",
        "pag = 179\n",
        "n = len(Obras_final['Rábago, Manuel de'][804]['Coordenadas'])\n",
        "for j in range(0,n):\n",
        "  x,y,w,h = Obras_final['Rábago, Manuel de'][804]['Coordenadas'][j]\n",
        "  fot = cv2.imread('Fotos/pag'+str(pag+j)+'.jpg')\n",
        "  fot = cv2.cvtColor(fot,cv2.COLOR_BGR2RGB)\n",
        "  Obra.append(fot[y:y+h+5,x:x+w])\n",
        "Obra = np.concatenate(Obra,axis=0)\n",
        "mostrarImagen(Obra)"
      ],
      "execution_count": 22,
      "outputs": [
        {
          "output_type": "display_data",
          "data": {
            "image/png": "[encoded data removed]",
            "text/plain": [
              "<Figure size 1152x1152 with 1 Axes>"
            ]
          },
          "metadata": {
            "tags": [],
            "needs_background": "light"
          }
        }
      ]
    },
    {
      "cell_type": "code",
      "metadata": {
        "colab": {
          "base_uri": "https://localhost:8080/",
          "height": 184,
          "referenced_widgets": [
            "bd6143f62aa448709301df8e2b555b4d",
            "9fea3594c400485a9ccb08b8628232c1",
            "4c618590fad9498289ee51610b56c45a",
            "bd7fa3afcae34c4098e4ebc312bd93e7",
            "23b19e2386f240dd8715176085edbfb0",
            "633e3364072948ec89547bd724590151",
            "f6ca79a35e674144a734ea3d1e44fff4",
            "573d8cd3f2b74feaa8afac1610e11a90",
            "214d950ff07645b1a5590a48950cd40d",
            "1c73ab2a90404acabe0d39b646dc3b4e",
            "b9bd0a01927745c4abdbd1d140d06c17",
            "16806459abe946978b4ff2af5b458125",
            "06ebb4b3387e4d41bc6eb7631ea38369",
            "c857197696e54386ab9a7161a0946fd4",
            "2de3342c667040bb9849c3078623c717",
            "41a159f9f4d349fb980a3c387eeeb876",
            "4a2e2fd1e7ce42ea8f1fa102e6862e26",
            "58d634231e044afcb044f5559e2b29ee",
            "1351bd3b453940f2a322d7084e046134",
            "8377a1f306304223abb66603ac97cef3",
            "bfd0c2cbd92e411195015b88e0e7bebd",
            "3a9cea6a7a1441b69d71660786a2c9b6",
            "f2eefa935e784c9db7780dbe2b1ed092",
            "d286754b6eba4bb897d27c0a17bd1f32",
            "4dc6fdb8b9b34bbcbbd7ea4e57c43c41",
            "4d277afee7f44e53be26558fd580d9eb",
            "17aa1613f3be4a3c8ae3f2259acb37fd",
            "6795ae6017da46ebaf94af8158670907",
            "b3828c6c2a3748d5b4216fac7f3151b1",
            "03314accafb14fb1af9fb21695720183",
            "cb460aa772224aa09c342e1c203cc8c8",
            "436b89b86aa0479fa155c94621bd7d1b",
            "61d08e24ac4b4da48b1203da09285755"
          ]
        },
        "id": "e9evCGFuwj1F",
        "outputId": "0bc5f8a7-3c1c-414d-d916-4a14282d0685"
      },
      "source": [
        "aux = borrar_texto(Obra)\n",
        "gray = cv2.cvtColor(aux,cv2.COLOR_RGB2GRAY)\n",
        "(T,threshInv) = cv2.threshold(gray, 0, 255, cv2.THRESH_BINARY_INV | cv2.THRESH_OTSU)\n",
        "dilate = cv2.dilate(threshInv.copy(),(15,1))\n",
        "\n",
        "for i in range(0,10):\n",
        "  dilate = cv2.dilate(dilate,(15,1))\n",
        "\n",
        "cnts,_ = cv2.findContours(dilate.copy(), cv2.RETR_EXTERNAL, cv2.CHAIN_APPROX_SIMPLE)\n",
        "for c in cnts[::-1]:\n",
        "  area = cv2.contourArea(c)\n",
        "  if(area > 10000):\n",
        "    (x, y, w, h) = cv2.boundingRect(c) # Mejor sacar el rectángulo contenido\n",
        "    bboxs,labels,scores = pent_image2pred(aux[y-3:y+114,x-3:x+923])\n",
        "    for i in range(0,len(labels)):\n",
        "      if 'nota' in labels[i]: labels[i] = labels[i]+'_'+altura_notas.predict(aux[y-3:y+114,x-3:x+923][:,bboxs[i][0]-3:bboxs[i][2]+3])[0]\n",
        "      if 'claved' in labels[i]:\n",
        "        coor = (bboxs[i][1]+bboxs[i][3])//2\n",
        "        pent = cv2.cvtColor(aux[y-3:y+114,x-3:x+923],cv2.COLOR_RGB2GRAY)\n",
        "        (T,pent) = cv2.threshold(pent, 0, 255, cv2.THRESH_BINARY_INV | cv2.THRESH_OTSU)\n",
        "        kernel = np.ones((1,3))\n",
        "        pent = cv2.erode(pent,kernel,iterations=10)\n",
        "        kernel = np.ones((3,3))\n",
        "        pent = cv2.dilate(pent,kernel,iterations=1)\n",
        "        cnts,_ = cv2.findContours(pent, cv2.RETR_EXTERNAL, cv2.CHAIN_APPROX_SIMPLE)\n",
        "        k = 1\n",
        "        distancia_min = 1000\n",
        "        for c in cnts:\n",
        "          _,y2,_,_ = cv2.boundingRect(c)\n",
        "          distancia = abs(coor-y2)\n",
        "          if distancia < distancia_min:\n",
        "            distancia_min = distancia\n",
        "            altura = k\n",
        "          k+=1\n",
        "        labels[i] = labels[i] + str(altura)\n",
        "    print(labels)"
      ],
      "execution_count": 31,
      "outputs": [
        {
          "output_type": "display_data",
          "data": {
            "application/vnd.jupyter.widget-view+json": {
              "model_id": "bd6143f62aa448709301df8e2b555b4d",
              "version_minor": 0,
              "version_major": 2
            },
            "text/plain": [
              "  0%|          | 0/1 [00:00<?, ?it/s]"
            ]
          },
          "metadata": {
            "tags": []
          }
        },
        {
          "output_type": "display_data",
          "data": {
            "text/html": [
              ""
            ],
            "text/plain": [
              "<IPython.core.display.HTML object>"
            ]
          },
          "metadata": {
            "tags": []
          }
        },
        {
          "output_type": "display_data",
          "data": {
            "text/html": [
              ""
            ],
            "text/plain": [
              "<IPython.core.display.HTML object>"
            ]
          },
          "metadata": {
            "tags": []
          }
        },
        {
          "output_type": "display_data",
          "data": {
            "text/html": [
              ""
            ],
            "text/plain": [
              "<IPython.core.display.HTML object>"
            ]
          },
          "metadata": {
            "tags": []
          }
        },
        {
          "output_type": "display_data",
          "data": {
            "text/html": [
              ""
            ],
            "text/plain": [
              "<IPython.core.display.HTML object>"
            ]
          },
          "metadata": {
            "tags": []
          }
        },
        {
          "output_type": "display_data",
          "data": {
            "text/html": [
              ""
            ],
            "text/plain": [
              "<IPython.core.display.HTML object>"
            ]
          },
          "metadata": {
            "tags": []
          }
        },
        {
          "output_type": "display_data",
          "data": {
            "text/html": [
              ""
            ],
            "text/plain": [
              "<IPython.core.display.HTML object>"
            ]
          },
          "metadata": {
            "tags": []
          }
        },
        {
          "output_type": "display_data",
          "data": {
            "text/html": [
              ""
            ],
            "text/plain": [
              "<IPython.core.display.HTML object>"
            ]
          },
          "metadata": {
            "tags": []
          }
        },
        {
          "output_type": "display_data",
          "data": {
            "text/html": [
              ""
            ],
            "text/plain": [
              "<IPython.core.display.HTML object>"
            ]
          },
          "metadata": {
            "tags": []
          }
        },
        {
          "output_type": "stream",
          "text": [
            "['claved1', 'bem', 'bem', 'bem', '4x4', 'nota2_9', 'nota1_11', 'nota1_10', 'line', 'nota2_9', 'nota2_9', 'line', 'nota2_9', 'bec', 'nota2_8', 'line', 'nota2_9', 'sil2', 'line']\n"
          ],
          "name": "stdout"
        },
        {
          "output_type": "display_data",
          "data": {
            "application/vnd.jupyter.widget-view+json": {
              "model_id": "16806459abe946978b4ff2af5b458125",
              "version_minor": 0,
              "version_major": 2
            },
            "text/plain": [
              "  0%|          | 0/1 [00:00<?, ?it/s]"
            ]
          },
          "metadata": {
            "tags": []
          }
        },
        {
          "output_type": "display_data",
          "data": {
            "text/html": [
              ""
            ],
            "text/plain": [
              "<IPython.core.display.HTML object>"
            ]
          },
          "metadata": {
            "tags": []
          }
        },
        {
          "output_type": "display_data",
          "data": {
            "text/html": [
              ""
            ],
            "text/plain": [
              "<IPython.core.display.HTML object>"
            ]
          },
          "metadata": {
            "tags": []
          }
        },
        {
          "output_type": "display_data",
          "data": {
            "text/html": [
              ""
            ],
            "text/plain": [
              "<IPython.core.display.HTML object>"
            ]
          },
          "metadata": {
            "tags": []
          }
        },
        {
          "output_type": "display_data",
          "data": {
            "text/html": [
              ""
            ],
            "text/plain": [
              "<IPython.core.display.HTML object>"
            ]
          },
          "metadata": {
            "tags": []
          }
        },
        {
          "output_type": "display_data",
          "data": {
            "text/html": [
              ""
            ],
            "text/plain": [
              "<IPython.core.display.HTML object>"
            ]
          },
          "metadata": {
            "tags": []
          }
        },
        {
          "output_type": "display_data",
          "data": {
            "text/html": [
              ""
            ],
            "text/plain": [
              "<IPython.core.display.HTML object>"
            ]
          },
          "metadata": {
            "tags": []
          }
        },
        {
          "output_type": "display_data",
          "data": {
            "text/html": [
              ""
            ],
            "text/plain": [
              "<IPython.core.display.HTML object>"
            ]
          },
          "metadata": {
            "tags": []
          }
        },
        {
          "output_type": "display_data",
          "data": {
            "text/html": [
              ""
            ],
            "text/plain": [
              "<IPython.core.display.HTML object>"
            ]
          },
          "metadata": {
            "tags": []
          }
        },
        {
          "output_type": "stream",
          "text": [
            "['claved1', 'bem', 'bem', 'bem', '3x4', 'nota1_9', 'nota1_9', 'nota1_9', 'line', 'nota2_10', 'nota1_9', 'line', 'nota2_9', 'bec', 'nota1_8', 'line', 'nota2_9', 'sil1', 'line']\n"
          ],
          "name": "stdout"
        },
        {
          "output_type": "display_data",
          "data": {
            "application/vnd.jupyter.widget-view+json": {
              "model_id": "f2eefa935e784c9db7780dbe2b1ed092",
              "version_minor": 0,
              "version_major": 2
            },
            "text/plain": [
              "  0%|          | 0/1 [00:00<?, ?it/s]"
            ]
          },
          "metadata": {
            "tags": []
          }
        },
        {
          "output_type": "display_data",
          "data": {
            "text/html": [
              ""
            ],
            "text/plain": [
              "<IPython.core.display.HTML object>"
            ]
          },
          "metadata": {
            "tags": []
          }
        },
        {
          "output_type": "display_data",
          "data": {
            "text/html": [
              ""
            ],
            "text/plain": [
              "<IPython.core.display.HTML object>"
            ]
          },
          "metadata": {
            "tags": []
          }
        },
        {
          "output_type": "display_data",
          "data": {
            "text/html": [
              ""
            ],
            "text/plain": [
              "<IPython.core.display.HTML object>"
            ]
          },
          "metadata": {
            "tags": []
          }
        },
        {
          "output_type": "display_data",
          "data": {
            "text/html": [
              ""
            ],
            "text/plain": [
              "<IPython.core.display.HTML object>"
            ]
          },
          "metadata": {
            "tags": []
          }
        },
        {
          "output_type": "display_data",
          "data": {
            "text/html": [
              ""
            ],
            "text/plain": [
              "<IPython.core.display.HTML object>"
            ]
          },
          "metadata": {
            "tags": []
          }
        },
        {
          "output_type": "display_data",
          "data": {
            "text/html": [
              ""
            ],
            "text/plain": [
              "<IPython.core.display.HTML object>"
            ]
          },
          "metadata": {
            "tags": []
          }
        },
        {
          "output_type": "display_data",
          "data": {
            "text/html": [
              ""
            ],
            "text/plain": [
              "<IPython.core.display.HTML object>"
            ]
          },
          "metadata": {
            "tags": []
          }
        },
        {
          "output_type": "display_data",
          "data": {
            "text/html": [
              ""
            ],
            "text/plain": [
              "<IPython.core.display.HTML object>"
            ]
          },
          "metadata": {
            "tags": []
          }
        },
        {
          "output_type": "display_data",
          "data": {
            "text/html": [
              ""
            ],
            "text/plain": [
              "<IPython.core.display.HTML object>"
            ]
          },
          "metadata": {
            "tags": []
          }
        },
        {
          "output_type": "stream",
          "text": [
            "['claved1', 'bem', 'bem', 'nota1_10', 'nota1_10', 'nota1_9', 'line', 'nota1_9', 'nota1_8', 'sil1', 'line', 'nota1:2_11', 'nota1:2_10', 'nota1:2_9', 'nota1_8']\n"
          ],
          "name": "stdout"
        }
      ]
    },
    {
      "cell_type": "markdown",
      "metadata": {
        "id": "F-nKOnJnniwe"
      },
      "source": [
        "# Salto a xml\n",
        "- Transforma esa lista de elementos a el formato musicxml"
      ]
    },
    {
      "cell_type": "code",
      "metadata": {
        "id": "p2GHWeNv5yx8"
      },
      "source": [
        "claves = {'G2':{-4:'F3', -3:'G3', -2:'A3', -1:'B3', 0:'C4', 1:'D4', 2:'E4', 3:'F4', 4:'G4', 5:'A4', 6:'B4', 7:'C5', 8:'D5', 9:'E5', 10:'F5', 11:'G5', 12:'A5', 13:'B5', 14:'C6'},\n",
        "          'F4':{-4:'A1', -3:'B1', -2:'C2', -1:'D2', 0:'E2', 1:'F2', 2:'G2', 3:'A2', 4:'B2', 5:'C3', 6:'D3', 7:'E3', 8:'F3', 9:'G3', 10:'A3', 11:'B3', 12:'C4', 13:'D4', 14:'E4'},\n",
        "          'C1':{-4:'D3', -3:'E3', -2:'F3', -1:'G3', 0:'A3', 1:'B3', 2:'C4', 3:'D4', 4:'E4', 5:'F4', 6:'G4', 7:'A4', 8:'B4', 9:'C5', 10:'D5', 11:'E5', 12:'F5', 13:'G5', 14:'A5'},\n",
        "          'C3':{-4:'G2', -3:'A2', -2:'B2', -1:'C3', 0:'D3', 1:'E3', 2:'F3', 3:'G3', 4:'A3', 5:'B3', 6:'C4', 7:'D4', 8:'E4', 9:'F4', 10:'G4', 11:'A4', 12:'B4', 13:'C5', 14:'D5'},\n",
        "          'C4':{-4:'E2', -3:'F2', -2:'G2', -1:'A2', 0:'B2', 1:'C3', 2:'D3', 3:'E3', 4:'F3', 5:'G3', 6:'A3', 7:'B3', 8:'C4', 9:'D4', 10:'E4', 11:'F4', 12:'G4', 13:'A4', 14:'B4'}}"
      ],
      "execution_count": 78,
      "outputs": []
    },
    {
      "cell_type": "code",
      "metadata": {
        "id": "H0YlqNtEU_pC"
      },
      "source": [
        "nombres={'background':'background','claved':'C', 'claves':'G2', 'clavef':'F', 'nota1':'quarter', 'nota2':'half', 'nota4':'whole', 'nota1:2':'eighth', 'nota1:4':'16th', 'notae':'grace', 'sos':'sharp', 'bem':'flat', 'bec':'natural', 'sil0':'multiple-rest', 'sil1':'quarter', 'sil2':'half', 'sil1:2':'eighth', 'sil1:4':'16th', '2x4':'2x4', '3x4':'3x4', '4x4':'4x4', '6x8':'6x8', 'punt':'dot', 'liga':'beam','3':'tuplet','line':'measure','P2':'P2', 'nota1:8':'32nd', 'cal':'cal', '3x2':'3x2','mf':'mf','P1':'P1','check':'check','3x8':'3x8','2x2':'2x2'}"
      ],
      "execution_count": 28,
      "outputs": []
    },
    {
      "cell_type": "code",
      "metadata": {
        "id": "IX-amyj_d9A-"
      },
      "source": [
        "duration = {'32nd':'1','16th':'2','height':'4','quarter':'8','half':'16','whole':'32'}"
      ],
      "execution_count": 84,
      "outputs": []
    },
    {
      "cell_type": "markdown",
      "metadata": {
        "id": "_ye7K8Rhls3l"
      },
      "source": [
        "## Funciones"
      ]
    },
    {
      "cell_type": "code",
      "metadata": {
        "id": "E2u8qHfAIsd2"
      },
      "source": [
        "def crear(dimension=(1000,1000)):\n",
        "  score_partwise = ET.Element('score-partwise')\n",
        "  score_partwise.set('version','3.1')\n",
        "  defaults = ET.SubElement(score_partwise,'defaults')\n",
        "  scaling = ET.SubElement(defaults,'scaling')\n",
        "  millimeters = ET.SubElement(scaling,'millimeters')\n",
        "  millimeters.text = '4.8'\n",
        "  tenths = ET.SubElement(scaling,'tenths')\n",
        "  tenths.text = '40'\n",
        "  page_layout = ET.SubElement(defaults,'page-layout')\n",
        "  page_height = ET.SubElement(page_layout,'page-height')\n",
        "  page_height.text = str(dimension[1])\n",
        "  page_width = ET.SubElement(page_layout,'page-width')\n",
        "  page_width.text = str(dimension[0])\n",
        "  page_margins = ET.SubElement(page_layout,'page-margins')\n",
        "  left_margin = ET.SubElement(page_margins,'left-margin')\n",
        "  left_margin.text = '150'\n",
        "  right_margin = ET.SubElement(page_margins,'right-margin')\n",
        "  right_margin.text = '150'\n",
        "  top_margin = ET.SubElement(page_margins,'top-margin')\n",
        "  top_margin.text = '10'\n",
        "  bottom_margin = ET.SubElement(page_margins,'bottom-margin')\n",
        "  bottom_margin.text = '10'\n",
        "  word_font = ET.SubElement(defaults,'word-font')\n",
        "  word_font.set('font-family','Edwin')\n",
        "  word_font.set('font-size','10')\n",
        "  lyric_font = ET.SubElement(defaults,'lyric-font')\n",
        "  lyric_font.set('font-family','Edwin')\n",
        "  lyric_font.set('font-size','10')\n",
        "  part_list = ET.SubElement(score_partwise,'part-list')\n",
        "  score_part = ET.SubElement(part_list,'score-part')\n",
        "  score_part.set('id','P1')\n",
        "  part_name = ET.SubElement(score_part,'part-name')\n",
        "  part_name.text = 'Piano'\n",
        "  part_abbreviation = ET.SubElement(score_part,'part-abbreviation')\n",
        "  part_abbreviation.text = 'Pno.'\n",
        "  score_instrument = ET.SubElement(score_part,'score-instrument')\n",
        "  score_instrument.set('id','P1-I1')\n",
        "  instrument_name = ET.SubElement(score_instrument,'instrument-name')\n",
        "  instrument_name.text = 'Piano'\n",
        "  midi_device = ET.SubElement(score_part,'midi-device')\n",
        "  midi_device.set('id','P1-I1')\n",
        "  midi_device.set('port','1')\n",
        "  midi_instrument = ET.SubElement(score_part,'midi-instrument')\n",
        "  midi_instrument.set('id','P1-I1')\n",
        "  midi_chanel = ET.SubElement(midi_instrument,'midi-chanel')\n",
        "  midi_chanel.text = '1'\n",
        "  midi_program = ET.SubElement(midi_instrument,'midi-program')\n",
        "  midi_program.text = '1'\n",
        "  volume = ET.SubElement(midi_instrument,'volume')\n",
        "  volume.text = '78.7402'\n",
        "  pan = ET.SubElement(midi_instrument,'pan')\n",
        "  pan.text = '78.7402'\n",
        "  part = ET.SubElement(score_partwise,'part')\n",
        "  part.set('id','P1')\n",
        "  return score_partwise"
      ],
      "execution_count": 29,
      "outputs": []
    },
    {
      "cell_type": "code",
      "metadata": {
        "id": "2PybfCgtYrNz"
      },
      "source": [
        "def add_measuere(mydata,inicio=False):\n",
        "  idx = [a.tag for a in mydata.getchildren()].index('part')\n",
        "  part = mydata.getchildren()[idx]\n",
        "  if inicio != False:\n",
        "    measure = ET.SubElement(part,'measure')\n",
        "    print = ET.SubElement(measure,'print')\n",
        "    print.set('new-system','yes')\n",
        "    system_layout = ET.SubElement(print,'system-layout')\n",
        "    system_margins = ET.SubElement(system_layout,'system-margins')\n",
        "    left_margin = ET.SubElement(system_margins,'left-margin')\n",
        "    left_margin.text = '50.00'\n",
        "    right_margin = ET.SubElement(system_margins,'right-margin')\n",
        "    right_margin.text = '50.00'\n",
        "    system_distance = ET.SubElement(system_layout,'system-distance')\n",
        "    system_distance.text = '85'\n",
        "    attributes = ET.SubElement(measure,'attributes')\n",
        "    divisions = ET.SubElement(attributes,'divisions')\n",
        "    divisions.text = '32'\n",
        "    key = ET.SubElement(attributes,'key')\n",
        "    fifths = ET.SubElement(key,'fifths')\n",
        "    fifths.text = str(inicio['fifths'])\n",
        "    time = ET.SubElement(attributes,'time')\n",
        "    beats = ET.SubElement(time,'beats')\n",
        "    beats.text = str(inicio['compas'][0])\n",
        "    beat_type = ET.SubElement(time,'beat-type')\n",
        "    beat_type.text = str(inicio['compas'][2])\n",
        "    clef = ET.SubElement(attributes,'clef')\n",
        "    sing = ET.SubElement(clef,'sing')\n",
        "    sing.text = str(inicio['clef'][0])\n",
        "    line = ET.SubElement(clef,'line')\n",
        "    line.text = str(inicio['clef'][1])\n",
        "  else:\n",
        "    measure = ET.SubElement(part,'measure')\n",
        "  return mydata"
      ],
      "execution_count": 30,
      "outputs": []
    },
    {
      "cell_type": "code",
      "metadata": {
        "id": "gspeqH1qK9oa"
      },
      "source": [
        "def add_note(mydata,atributos): # Falta tratar texto, ligaduras, chords, puntos, corcheas juntas, especiales y sostenidos...\n",
        "  idx = [a.tag for a in mydata.getchildren()].index('part')\n",
        "  part = mydata.getchildren()[idx]\n",
        "  measure = part.getchildren()[-1] # Añadimos en el último pentagrama\n",
        "  note = ET.SubElement(measure,'note')\n",
        "  pitch = ET.SubElement(note,'pitch')\n",
        "  step = ET.SubElement(pitch,'step')\n",
        "  step.text = atributos['step']\n",
        "  octave = ET.SubElement(pitch,'octave')\n",
        "  octave.text = atributos['octave']\n",
        "  duration = ET.SubElement(note,'duration')\n",
        "  duration.text = atributos['duration']\n",
        "  voice = ET.SubElement(note,'voice')\n",
        "  voice.text = '1'\n",
        "  tipo = ET.SubElement(note,'type')\n",
        "  tipo.text = atributos['type']\n",
        "  stem = ET.SubElement(note,'stem')\n",
        "  stem.text = atributos['stem']\n",
        "  return mydata"
      ],
      "execution_count": 31,
      "outputs": []
    },
    {
      "cell_type": "code",
      "metadata": {
        "id": "oAzCEOpxFSuY"
      },
      "source": [
        "def add_rest(mydata,atributos): # Falta gestionar los puntos y ligaduras\n",
        "  idx = [a.tag for a in mydata.getchildren()].index('part')\n",
        "  part = mydata.getchildren()[idx]\n",
        "  measure = part.getchildren()[-1] # Añadimos en el último pentagrama\n",
        "  note = ET.SubElement(measure,'note')\n",
        "  rest = ET.SubElement(note,'rest')\n",
        "  duration = ET.SubElement(note,'duration')\n",
        "  duration.text = atributos['duration']\n",
        "  voice = ET.SubElement(note,'voice')\n",
        "  voice.text = '1'\n",
        "  tipo = ET.SubElement(note,'type')\n",
        "  tipo.text = atributos['type']\n",
        "  return mydata"
      ],
      "execution_count": 32,
      "outputs": []
    },
    {
      "cell_type": "code",
      "metadata": {
        "id": "qLK8R_jkzc2A"
      },
      "source": [
        "def add_texto(mydata,atributos): # Falta por tratar el texto de las melodías\n",
        "  if atributos['tipo'] == 1:\n",
        "    texto = atributos['texto'].replace('\\n\\x0c','').split('\\n')\n",
        "    n = len(texto)\n",
        "    for i in range(0,n):\n",
        "      if i == 0:\n",
        "        credit = ET.SubElement(mydata,'credit')\n",
        "        credit.set('page','1')\n",
        "        credit_type = ET.SubElement(credit,'credit-type')\n",
        "        credit_type.text = 'lyricits'\n",
        "        credit_words = ET.SubElement(credit,'credit-words')\n",
        "        credit_words.set('default-x','150')\n",
        "        credit_words.set('default-y',atributos['altura'])\n",
        "        credit_words.set('justify','left')\n",
        "        credit_words.set('valing','top')\n",
        "        credit_words.set('font-size','9')\n",
        "        credit_words.text = texto[i]\n",
        "      else:\n",
        "        credit_words = ET.SubElement(credit,'credit-words')\n",
        "        credit_words.text = texto[i]\n",
        "  else:\n",
        "    pass # Falta por tratar\n",
        "  \n",
        "  return mydata"
      ],
      "execution_count": 33,
      "outputs": []
    },
    {
      "cell_type": "markdown",
      "metadata": {
        "id": "izBBfqGmlwiE"
      },
      "source": [
        "## Ejemplo"
      ]
    },
    {
      "cell_type": "markdown",
      "metadata": {
        "id": "TikH3KlDdwvU"
      },
      "source": [
        "- **Escribiendo música de forma manual**"
      ]
    },
    {
      "cell_type": "code",
      "metadata": {
        "id": "oxz2GpZmJhYE"
      },
      "source": [
        "mydata = crear((1300,600))\n",
        "inicio = {'fifths':-3,'compas':'6x8','clef':'G2'}\n",
        "atributos = {'step':'C','octave':'5','type':'chord','stem':'down','duration':'16'}\n",
        "mydata = add_measuere(mydata,inicio)\n",
        "mydata = add_note(mydata,atributos)\n",
        "mydata = add_measuere(mydata)\n",
        "mydata = prettify(mydata)\n",
        "with open(\"items2.xml\", \"w\") as myfile:\n",
        "  myfile.write(mydata)"
      ],
      "execution_count": null,
      "outputs": []
    },
    {
      "cell_type": "code",
      "metadata": {
        "id": "RR0V5KSRYdfh"
      },
      "source": [
        "def image2xml(img):\n",
        "  if type(img) == str:\n",
        "    img = cv2.imread(img)\n",
        "    img = cv2.cvtColor(img,cv2.COLOR_BGR2RGB)\n",
        "  Y,X,_=img.shape\n",
        "  data = image2data(img)\n",
        "  for elemento in data:\n",
        "    if 'pent' in elemento:\n",
        "      inico = {'fifths':0,'compas':'4x4','clef':'G2'} # Valores por defecto\n",
        "      for l in elemento['labels']:\n",
        "        if 'x' in l: n = elemento['labels'].index(l)\n",
        "        else: n = len(elemento['labels'])\n",
        "      if n == len(elemento['labels']):\n",
        "        L = [elemento['labels'][i] for i in range(0,n) if elemento['bboxs'][i][0] <= 90]\n",
        "        inicio['fifths'] = -len([l for l in L if l == 'bem']) + len([l for l in L if l == 'sos'])\n",
        "        inicio['clef'] = [l for l in L if 'clave' in l][0]\n",
        "        mydata = mydata = crear((X,Y))\n",
        "        mydata = add_measure(mydata,inicio)\n",
        "        L = [elemento['labels'][i] for i in range(0,n) if elemento['bboxs'][i][0] > 90]\n",
        "      else:\n",
        "        L = elemento['labels'][:n+1]\n",
        "        inicio['fifths'] = -len([l for l in L if l == 'bem']) + len([l for l in L if l == 'sos'])\n",
        "        inicio['clef'] = [l for l in L if 'clave' in l][0]\n",
        "        inicio['compas'] = L[-1]\n",
        "        mydata = crear()\n",
        "        mydata = add_measure(mydata,inicio)\n",
        "        L = elemento['labels'][n+1:]\n",
        "      for l in L:\n",
        "        if 'nota' in L:\n",
        "          atributos = {'step':'C','octave':'5','type':'quarter','stem':'down','duration':'8'}\n",
        "          nota = claves[clave][int(l[l.find('_')+1:])]\n",
        "          atributos['step'] = nota[0]\n",
        "          atributos['octave'] = nota[1]\n",
        "          atributos['type'] = nombres[l[:l.find('_')]]\n",
        "          if int(l[l.find('_')+1:]) < 6: atributos['stem'] = 'up'\n",
        "          else: atributos['stem'] = 'down'\n",
        "          atributos['duration'] = duration[nombres[l[:l.find('_')]]]\n",
        "          mydata = add_note(mydata,atributos)\n",
        "        if 'line' == l:\n",
        "          mydata = add_measuere(mydata)\n",
        "        if 'sil' in l:\n",
        "          atributos = {'type':'quarter','duration':'8'}\n",
        "          atributos['type'] = nombres[l]\n",
        "          atributos['duration'] = duration[nombres[l]]\n",
        "          mydata = add_rest(mydata,atributos)\n",
        "    if 'text' in elemento:\n",
        "      mydata = add_texto(mydata,elemento)"
      ],
      "execution_count": 88,
      "outputs": []
    }
  ]
}