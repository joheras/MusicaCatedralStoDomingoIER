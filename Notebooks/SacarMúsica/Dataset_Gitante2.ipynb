{
  "nbformat": 4,
  "nbformat_minor": 0,
  "metadata": {
    "colab": {
      "name": "Dataset_Gitante2.ipynb",
      "provenance": [],
      "authorship_tag": "ABX9TyNjCWMHXj8lEYgRqvR3eAZp",
      "include_colab_link": true
    },
    "kernelspec": {
      "name": "python3",
      "display_name": "Python 3"
    },
    "language_info": {
      "name": "python"
    }
  },
  "cells": [
    {
      "cell_type": "markdown",
      "metadata": {
        "id": "view-in-github",
        "colab_type": "text"
      },
      "source": [
        "<a href=\"https://colab.research.google.com/github/joheras/MusicaCatedralStoDomingoIER/blob/main/Notebooks/SacarM%C3%BAsica/Dataset_Gitante2.ipynb\" target=\"_parent\"><img src=\"https://colab.research.google.com/assets/colab-badge.svg\" alt=\"Open In Colab\"/></a>"
      ]
    },
    {
      "cell_type": "markdown",
      "metadata": {
        "id": "k5Tvwsf23fZs"
      },
      "source": [
        "# Título\n",
        "https://github.com/yvan674/obb_anns"
      ]
    },
    {
      "cell_type": "code",
      "metadata": {
        "id": "l8igz2AJrlvD"
      },
      "source": [
        "!sudo apt install swig\n",
        "!git clone https://github.com/yvan674/obb_anns"
      ],
      "execution_count": null,
      "outputs": []
    },
    {
      "cell_type": "code",
      "metadata": {
        "colab": {
          "base_uri": "https://localhost:8080/"
        },
        "id": "17kVJ9AYzEU7",
        "outputId": "b1b46134-90b4-4587-bf61-5f3d933a2f12"
      },
      "source": [
        "%cd obb_anns"
      ],
      "execution_count": 2,
      "outputs": [
        {
          "output_type": "stream",
          "text": [
            "/content/obb_anns\n"
          ],
          "name": "stdout"
        }
      ]
    },
    {
      "cell_type": "code",
      "metadata": {
        "id": "VPYafwITzHM7"
      },
      "source": [
        "!python3 setup.py develop  # Installs it in place"
      ],
      "execution_count": null,
      "outputs": []
    },
    {
      "cell_type": "code",
      "metadata": {
        "id": "aEc71U8GTeNl"
      },
      "source": [
        "!wget https://www.dropbox.com/s/84dy3hxbgi4x2tx/ds2_dense.zip?dl=1 -O ds2_dense.zip\n",
        "!unzip ds2_dense.zip"
      ],
      "execution_count": null,
      "outputs": []
    },
    {
      "cell_type": "code",
      "metadata": {
        "colab": {
          "base_uri": "https://localhost:8080/"
        },
        "id": "1ga3oTSdzJJk",
        "outputId": "90c4b0ba-0529-46a2-de2b-b0005ed4128d"
      },
      "source": [
        "from obb_anns import OBBAnns\n",
        "o = OBBAnns('ds2_dense/deepscores_val.json')\n",
        "o.load_annotations()"
      ],
      "execution_count": 12,
      "outputs": [
        {
          "output_type": "stream",
          "text": [
            "loading ann_info...\n",
            "done! t=4.30s\n"
          ],
          "name": "stdout"
        }
      ]
    },
    {
      "cell_type": "code",
      "metadata": {
        "id": "KFkB4baIT_bl",
        "outputId": "b3315e17-2b74-48a9-810f-be2f31386bbe",
        "colab": {
          "base_uri": "https://localhost:8080/"
        }
      },
      "source": [
        "o.visualize(img_idx=1, out_dir='/content/save', show=False, oriented=False)"
      ],
      "execution_count": 28,
      "outputs": [
        {
          "output_type": "stream",
          "text": [
            "Visualizing ds2_dense/images/lg-210359136-aug-lilyjazz--page-14.png...\n"
          ],
          "name": "stdout"
        }
      ]
    },
    {
      "cell_type": "code",
      "metadata": {
        "id": "v7knthefYxo8"
      },
      "source": [
        "imgs, anns = o.get_img_ann_pair(idxs=[1])"
      ],
      "execution_count": 21,
      "outputs": []
    },
    {
      "cell_type": "code",
      "metadata": {
        "id": "ykjPfeJpY5cb"
      },
      "source": [
        ""
      ],
      "execution_count": null,
      "outputs": []
    }
  ]
}