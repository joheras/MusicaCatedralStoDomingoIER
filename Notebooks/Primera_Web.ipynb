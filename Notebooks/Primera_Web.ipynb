{
  "nbformat": 4,
  "nbformat_minor": 0,
  "metadata": {
    "colab": {
      "name": "Primera_Web.ipynb",
      "provenance": []
    },
    "kernelspec": {
      "display_name": "Python 3",
      "name": "python3"
    },
    "widgets": {
      "application/vnd.jupyter.widget-state+json": {
        "6caccba161c349c786b40718b9456273": {
          "model_module": "@jupyter-widgets/controls",
          "model_name": "TextModel",
          "state": {
            "_dom_classes": [],
            "_model_module": "@jupyter-widgets/controls",
            "_model_module_version": "1.5.0",
            "_model_name": "TextModel",
            "_view_count": null,
            "_view_module": "@jupyter-widgets/controls",
            "_view_module_version": "1.5.0",
            "_view_name": "TextView",
            "continuous_update": true,
            "description": "",
            "description_tooltip": null,
            "disabled": false,
            "layout": "IPY_MODEL_451e1ac9a84e4fa2853c8d097af38b15",
            "placeholder": "Escribe algo",
            "style": "IPY_MODEL_94a8053bd6734c85b094c2c2a7684f15",
            "value": ""
          }
        },
        "451e1ac9a84e4fa2853c8d097af38b15": {
          "model_module": "@jupyter-widgets/base",
          "model_name": "LayoutModel",
          "state": {
            "_model_module": "@jupyter-widgets/base",
            "_model_module_version": "1.2.0",
            "_model_name": "LayoutModel",
            "_view_count": null,
            "_view_module": "@jupyter-widgets/base",
            "_view_module_version": "1.2.0",
            "_view_name": "LayoutView",
            "align_content": null,
            "align_items": null,
            "align_self": null,
            "border": null,
            "bottom": null,
            "display": null,
            "flex": null,
            "flex_flow": null,
            "grid_area": null,
            "grid_auto_columns": null,
            "grid_auto_flow": null,
            "grid_auto_rows": null,
            "grid_column": null,
            "grid_gap": null,
            "grid_row": null,
            "grid_template_areas": null,
            "grid_template_columns": null,
            "grid_template_rows": null,
            "height": null,
            "justify_content": null,
            "justify_items": null,
            "left": null,
            "margin": null,
            "max_height": null,
            "max_width": null,
            "min_height": null,
            "min_width": null,
            "object_fit": null,
            "object_position": null,
            "order": null,
            "overflow": null,
            "overflow_x": null,
            "overflow_y": null,
            "padding": null,
            "right": null,
            "top": null,
            "visibility": null,
            "width": null
          }
        },
        "94a8053bd6734c85b094c2c2a7684f15": {
          "model_module": "@jupyter-widgets/controls",
          "model_name": "DescriptionStyleModel",
          "state": {
            "_model_module": "@jupyter-widgets/controls",
            "_model_module_version": "1.5.0",
            "_model_name": "DescriptionStyleModel",
            "_view_count": null,
            "_view_module": "@jupyter-widgets/base",
            "_view_module_version": "1.2.0",
            "_view_name": "StyleView",
            "description_width": ""
          }
        },
        "f971becdb76246f1884f2ca5215e75c8": {
          "model_module": "@jupyter-widgets/controls",
          "model_name": "ButtonModel",
          "state": {
            "_dom_classes": [],
            "_model_module": "@jupyter-widgets/controls",
            "_model_module_version": "1.5.0",
            "_model_name": "ButtonModel",
            "_view_count": null,
            "_view_module": "@jupyter-widgets/controls",
            "_view_module_version": "1.5.0",
            "_view_name": "ButtonView",
            "button_style": "",
            "description": "Buscar",
            "disabled": false,
            "icon": "",
            "layout": "IPY_MODEL_d49514ea40c44af2b70fc967b4060bf4",
            "style": "IPY_MODEL_a7c08dddd0374330a6f85ef052c3611f",
            "tooltip": ""
          }
        },
        "d49514ea40c44af2b70fc967b4060bf4": {
          "model_module": "@jupyter-widgets/base",
          "model_name": "LayoutModel",
          "state": {
            "_model_module": "@jupyter-widgets/base",
            "_model_module_version": "1.2.0",
            "_model_name": "LayoutModel",
            "_view_count": null,
            "_view_module": "@jupyter-widgets/base",
            "_view_module_version": "1.2.0",
            "_view_name": "LayoutView",
            "align_content": null,
            "align_items": null,
            "align_self": null,
            "border": null,
            "bottom": null,
            "display": null,
            "flex": null,
            "flex_flow": null,
            "grid_area": null,
            "grid_auto_columns": null,
            "grid_auto_flow": null,
            "grid_auto_rows": null,
            "grid_column": null,
            "grid_gap": null,
            "grid_row": null,
            "grid_template_areas": null,
            "grid_template_columns": null,
            "grid_template_rows": null,
            "height": null,
            "justify_content": null,
            "justify_items": null,
            "left": null,
            "margin": null,
            "max_height": null,
            "max_width": null,
            "min_height": null,
            "min_width": null,
            "object_fit": null,
            "object_position": null,
            "order": null,
            "overflow": null,
            "overflow_x": null,
            "overflow_y": null,
            "padding": null,
            "right": null,
            "top": null,
            "visibility": null,
            "width": null
          }
        },
        "a7c08dddd0374330a6f85ef052c3611f": {
          "model_module": "@jupyter-widgets/controls",
          "model_name": "ButtonStyleModel",
          "state": {
            "_model_module": "@jupyter-widgets/controls",
            "_model_module_version": "1.5.0",
            "_model_name": "ButtonStyleModel",
            "_view_count": null,
            "_view_module": "@jupyter-widgets/base",
            "_view_module_version": "1.2.0",
            "_view_name": "StyleView",
            "button_color": null,
            "font_weight": ""
          }
        },
        "c355b7b5b4c0432f9af929428d417c01": {
          "model_module": "@jupyter-widgets/output",
          "model_name": "OutputModel",
          "state": {
            "_dom_classes": [],
            "_model_module": "@jupyter-widgets/output",
            "_model_module_version": "1.0.0",
            "_model_name": "OutputModel",
            "_view_count": null,
            "_view_module": "@jupyter-widgets/output",
            "_view_module_version": "1.0.0",
            "_view_name": "OutputView",
            "layout": "IPY_MODEL_45304e7fa3064e00907e14da4879dcc8",
            "msg_id": "",
            "outputs": []
          }
        },
        "45304e7fa3064e00907e14da4879dcc8": {
          "model_module": "@jupyter-widgets/base",
          "model_name": "LayoutModel",
          "state": {
            "_model_module": "@jupyter-widgets/base",
            "_model_module_version": "1.2.0",
            "_model_name": "LayoutModel",
            "_view_count": null,
            "_view_module": "@jupyter-widgets/base",
            "_view_module_version": "1.2.0",
            "_view_name": "LayoutView",
            "align_content": null,
            "align_items": null,
            "align_self": null,
            "border": null,
            "bottom": null,
            "display": null,
            "flex": null,
            "flex_flow": null,
            "grid_area": null,
            "grid_auto_columns": null,
            "grid_auto_flow": null,
            "grid_auto_rows": null,
            "grid_column": null,
            "grid_gap": null,
            "grid_row": null,
            "grid_template_areas": null,
            "grid_template_columns": null,
            "grid_template_rows": null,
            "height": null,
            "justify_content": null,
            "justify_items": null,
            "left": null,
            "margin": null,
            "max_height": null,
            "max_width": null,
            "min_height": null,
            "min_width": null,
            "object_fit": null,
            "object_position": null,
            "order": null,
            "overflow": null,
            "overflow_x": null,
            "overflow_y": null,
            "padding": null,
            "right": null,
            "top": null,
            "visibility": null,
            "width": null
          }
        }
      }
    }
  },
  "cells": [
    {
      "cell_type": "markdown",
      "metadata": {
        "id": "UCZkhAgoRMCS"
      },
      "source": [
        "# La música en la Catedral de Santo Domingo de la Calzada\n",
        "## Aplicación para la búsqueda de palabras del Capítulo 1"
      ]
    },
    {
      "cell_type": "code",
      "metadata": {
        "id": "oo3FYY-4RjkM"
      },
      "source": [
        "import numpy as np\n",
        "import cv2\n",
        "import sys\n",
        "import pickle\n",
        "import re,string\n",
        "from unicodedata import normalize\n",
        "import matplotlib.pyplot as plt\n",
        "from ipywidgets import interactive\n",
        "from zipfile import ZipFile\n",
        "import ipywidgets as widgets\n",
        "from IPython.display import display\n",
        "%matplotlib inline"
      ],
      "execution_count": null,
      "outputs": []
    },
    {
      "cell_type": "code",
      "metadata": {
        "id": "la1lquW13x2f"
      },
      "source": [
        "%%capture\n",
        "!wget https://github.com/gosantam/PaginaWeb/raw/main/Fotos.zip"
      ],
      "execution_count": 1,
      "outputs": []
    },
    {
      "cell_type": "code",
      "metadata": {
        "id": "_LCXQ9Ba35hU"
      },
      "source": [
        "%%capture\n",
        "!unzip Fotos.zip"
      ],
      "execution_count": 2,
      "outputs": []
    },
    {
      "cell_type": "code",
      "metadata": {
        "id": "S2x_LyGchr62"
      },
      "source": [
        "with open(\"texto.pickle\", \"rb\") as f:\n",
        "    texto = pickle.load(f)"
      ],
      "execution_count": null,
      "outputs": []
    },
    {
      "cell_type": "code",
      "metadata": {
        "id": "4vEQLOK6ZXpM"
      },
      "source": [
        "def remove_punctuation(frase):\n",
        "  char = re.sub('[%s]' % re.escape(string.punctuation.replace('-','')),'',frase)\n",
        "  char = char.replace('¿','').replace('?','').replace('`','').replace('´','').replace('#','').lower()\n",
        "  char = re.sub(\n",
        "        r\"([^n\\u0300-\\u036f]|n(?!\\u0303(?![\\u0300-\\u036f])))[\\u0300-\\u036f]+\", r\"\\1\", \n",
        "        normalize( \"NFD\", char), 0, re.I\n",
        "    )\n",
        "  char = normalize( 'NFC', char)\n",
        "  return char"
      ],
      "execution_count": null,
      "outputs": []
    },
    {
      "cell_type": "code",
      "metadata": {
        "id": "VDVwlZkgZS-L"
      },
      "source": [
        "def buscar(frase,texto): # Las fotos están en una carpeta. El texto es nuestro diccionario con la información.\n",
        "  frase2 = frase.upper()\n",
        "  fotos = []\n",
        "  frase = frase.split()\n",
        "  n = len(frase)\n",
        "  frase = ''.join(frase)\n",
        "  frase =  remove_punctuation(frase).replace(' ','')\n",
        "  for cla in texto:\n",
        "    foto = cv2.imread('Fotos/pag' + str(cla) + '.jpg') # Vamos abriendo las fotos página a página\n",
        "    foto = cv2.cvtColor(foto, cv2.COLOR_BGR2RGB)\n",
        "    N = len(texto[cla]['text'])\n",
        "    j = 0\n",
        "    encontrado = False\n",
        "    while j < N:\n",
        "      k = j\n",
        "      b = True\n",
        "      siguiente = texto[cla]['text'][j:n+j]\n",
        "      if siguiente[-1][-1] == '-':\n",
        "        siguiente = ''.join(texto[cla]['text'][j:n+j+1])\n",
        "        siguiente = siguiente.replace(' ','').replace('-','')\n",
        "        j = j + 1\n",
        "      else:\n",
        "        siguiente = ''.join(siguiente)\n",
        "        j = j + 1\n",
        "        b = False\n",
        "\n",
        "      if frase in siguiente:\n",
        "        encontrado = True\n",
        "        x = texto[cla]['left'][k]\n",
        "        y = texto[cla]['top'][k]\n",
        "        h = texto[cla]['height'][k]\n",
        "        w = 0\n",
        "        for i in range(k,k+n):\n",
        "          w = w + texto[cla]['width'][i] + 7 # le añado un poco más para tener en cuenta la separación entre palabras \n",
        "        cv2.rectangle(foto,(x-10,y-10),(x+w+10,y+h+10),(226,182,19),2)\n",
        "        if b:\n",
        "          x = texto[cla]['left'][k+n]\n",
        "          y = texto[cla]['top'][k+n]\n",
        "          h = texto[cla]['height'][k+n]\n",
        "          w = texto[cla]['width'][k+n]\n",
        "          cv2.rectangle(foto,(x-10,y-10),(x+w+10,y+h+10),(226,182,19),2)\n",
        "    if encontrado == True: fotos.append(foto)\n",
        "\n",
        "  n = len(fotos)\n",
        "  if n == 0:\n",
        "    print('La palabra no aparece o está mal escrita.')\n",
        "  else:\n",
        "    if len(fotos) == 1:\n",
        "      print('LA PALABRA \"' + frase2 + '\" APARECE EN ' + str(1) + ' PÁGINA.')\n",
        "    else:\n",
        "      print('LA PALABRA \"' + frase2 + '\" APARECE EN ' + str(len(fotos)) + ' PÁGINA.')\n",
        "    fig, ax = plt.subplots(n,1,figsize=(16*n,16*n))\n",
        "    for i in range(0,n):\n",
        "      if n == 1:\n",
        "        ax.imshow(fotos[i])\n",
        "      else:\n",
        "        ax[i].imshow(fotos[i])\n",
        "    plt.show()"
      ],
      "execution_count": null,
      "outputs": []
    },
    {
      "cell_type": "markdown",
      "metadata": {
        "id": "o5yjTRCIc0kZ"
      },
      "source": [
        "## En esta aplicación podemos realizar búsquedas"
      ]
    },
    {
      "cell_type": "code",
      "metadata": {
        "colab": {
          "base_uri": "https://localhost:8080/",
          "height": 81,
          "referenced_widgets": [
            "6caccba161c349c786b40718b9456273",
            "451e1ac9a84e4fa2853c8d097af38b15",
            "94a8053bd6734c85b094c2c2a7684f15",
            "f971becdb76246f1884f2ca5215e75c8",
            "d49514ea40c44af2b70fc967b4060bf4",
            "a7c08dddd0374330a6f85ef052c3611f",
            "c355b7b5b4c0432f9af929428d417c01",
            "45304e7fa3064e00907e14da4879dcc8"
          ]
        },
        "id": "ClPZcOIe68zn",
        "outputId": "9cfd61b6-a2f9-42d5-839f-53861f35ca29"
      },
      "source": [
        "keyword=widgets.Text(\n",
        "    placeholder='Escribe algo',\n",
        "    disabled=False\n",
        ")\n",
        "display(keyword)\n",
        "\n",
        "\n",
        "button = widgets.Button(description=\"Buscar\")\n",
        "display(button)\n",
        "\n",
        "output = widgets.Output()\n",
        "@output.capture()\n",
        "def on_button_clicked(b):\n",
        "  output.clear_output()\n",
        "  if keyword.value == '': \n",
        "    print('No has escrito nada.')\n",
        "  else:\n",
        "    buscar(keyword.value,texto)\n",
        "\n",
        "button.on_click(on_button_clicked)\n",
        "display(output)"
      ],
      "execution_count": null,
      "outputs": [
        {
          "output_type": "display_data",
          "data": {
            "application/vnd.jupyter.widget-view+json": {
              "model_id": "6caccba161c349c786b40718b9456273",
              "version_major": 2,
              "version_minor": 0
            },
            "text/plain": [
              "Text(value='', placeholder='Escribe algo')"
            ]
          },
          "metadata": {
            "tags": []
          }
        },
        {
          "output_type": "display_data",
          "data": {
            "application/vnd.jupyter.widget-view+json": {
              "model_id": "f971becdb76246f1884f2ca5215e75c8",
              "version_major": 2,
              "version_minor": 0
            },
            "text/plain": [
              "Button(description='Buscar', style=ButtonStyle())"
            ]
          },
          "metadata": {
            "tags": []
          }
        },
        {
          "output_type": "display_data",
          "data": {
            "application/vnd.jupyter.widget-view+json": {
              "model_id": "c355b7b5b4c0432f9af929428d417c01",
              "version_major": 2,
              "version_minor": 0
            },
            "text/plain": [
              "Output()"
            ]
          },
          "metadata": {
            "tags": []
          }
        }
      ]
    }
  ]
}