{
  "nbformat": 4,
  "nbformat_minor": 0,
  "metadata": {
    "colab": {
      "name": "Primera_Web.ipynb",
      "provenance": []
    },
    "kernelspec": {
      "name": "python3",
      "display_name": "Python 3"
    },
    "widgets": {
      "application/vnd.jupyter.widget-state+json": {
        "be0fd309fd7d4bc599e9d09bac5df1fb": {
          "model_module": "@jupyter-widgets/controls",
          "model_name": "TextModel",
          "state": {
            "_view_name": "TextView",
            "style": "IPY_MODEL_5b8bf2550d1d4ffaa4b631bcc49b4f35",
            "_dom_classes": [],
            "description": "",
            "_model_name": "TextModel",
            "placeholder": "Escribe algo",
            "_view_module": "@jupyter-widgets/controls",
            "_model_module_version": "1.5.0",
            "value": "",
            "_view_count": null,
            "disabled": false,
            "_view_module_version": "1.5.0",
            "continuous_update": true,
            "description_tooltip": null,
            "_model_module": "@jupyter-widgets/controls",
            "layout": "IPY_MODEL_b0210274d6614a88bb41816f078aca7c"
          }
        },
        "5b8bf2550d1d4ffaa4b631bcc49b4f35": {
          "model_module": "@jupyter-widgets/controls",
          "model_name": "DescriptionStyleModel",
          "state": {
            "_view_name": "StyleView",
            "_model_name": "DescriptionStyleModel",
            "description_width": "",
            "_view_module": "@jupyter-widgets/base",
            "_model_module_version": "1.5.0",
            "_view_count": null,
            "_view_module_version": "1.2.0",
            "_model_module": "@jupyter-widgets/controls"
          }
        },
        "b0210274d6614a88bb41816f078aca7c": {
          "model_module": "@jupyter-widgets/base",
          "model_name": "LayoutModel",
          "state": {
            "_view_name": "LayoutView",
            "grid_template_rows": null,
            "right": null,
            "justify_content": null,
            "_view_module": "@jupyter-widgets/base",
            "overflow": null,
            "_model_module_version": "1.2.0",
            "_view_count": null,
            "flex_flow": null,
            "width": null,
            "min_width": null,
            "border": null,
            "align_items": null,
            "bottom": null,
            "_model_module": "@jupyter-widgets/base",
            "top": null,
            "grid_column": null,
            "overflow_y": null,
            "overflow_x": null,
            "grid_auto_flow": null,
            "grid_area": null,
            "grid_template_columns": null,
            "flex": null,
            "_model_name": "LayoutModel",
            "justify_items": null,
            "grid_row": null,
            "max_height": null,
            "align_content": null,
            "visibility": null,
            "align_self": null,
            "height": null,
            "min_height": null,
            "padding": null,
            "grid_auto_rows": null,
            "grid_gap": null,
            "max_width": null,
            "order": null,
            "_view_module_version": "1.2.0",
            "grid_template_areas": null,
            "object_position": null,
            "object_fit": null,
            "grid_auto_columns": null,
            "margin": null,
            "display": null,
            "left": null
          }
        },
        "c82fb63aac5d455e9e2f2da3bf790150": {
          "model_module": "@jupyter-widgets/controls",
          "model_name": "ButtonModel",
          "state": {
            "_view_name": "ButtonView",
            "style": "IPY_MODEL_08137a56d4434eae85c516f9b259a7f8",
            "_dom_classes": [],
            "description": "Buscar",
            "_model_name": "ButtonModel",
            "button_style": "",
            "_view_module": "@jupyter-widgets/controls",
            "_model_module_version": "1.5.0",
            "tooltip": "",
            "_view_count": null,
            "disabled": false,
            "_view_module_version": "1.5.0",
            "layout": "IPY_MODEL_6aac3b4d3c3f4aa9bb5790d3583ce2e3",
            "_model_module": "@jupyter-widgets/controls",
            "icon": ""
          }
        },
        "08137a56d4434eae85c516f9b259a7f8": {
          "model_module": "@jupyter-widgets/controls",
          "model_name": "ButtonStyleModel",
          "state": {
            "_view_name": "StyleView",
            "_model_name": "ButtonStyleModel",
            "_view_module": "@jupyter-widgets/base",
            "_model_module_version": "1.5.0",
            "_view_count": null,
            "button_color": null,
            "font_weight": "",
            "_view_module_version": "1.2.0",
            "_model_module": "@jupyter-widgets/controls"
          }
        },
        "6aac3b4d3c3f4aa9bb5790d3583ce2e3": {
          "model_module": "@jupyter-widgets/base",
          "model_name": "LayoutModel",
          "state": {
            "_view_name": "LayoutView",
            "grid_template_rows": null,
            "right": null,
            "justify_content": null,
            "_view_module": "@jupyter-widgets/base",
            "overflow": null,
            "_model_module_version": "1.2.0",
            "_view_count": null,
            "flex_flow": null,
            "width": null,
            "min_width": null,
            "border": null,
            "align_items": null,
            "bottom": null,
            "_model_module": "@jupyter-widgets/base",
            "top": null,
            "grid_column": null,
            "overflow_y": null,
            "overflow_x": null,
            "grid_auto_flow": null,
            "grid_area": null,
            "grid_template_columns": null,
            "flex": null,
            "_model_name": "LayoutModel",
            "justify_items": null,
            "grid_row": null,
            "max_height": null,
            "align_content": null,
            "visibility": null,
            "align_self": null,
            "height": null,
            "min_height": null,
            "padding": null,
            "grid_auto_rows": null,
            "grid_gap": null,
            "max_width": null,
            "order": null,
            "_view_module_version": "1.2.0",
            "grid_template_areas": null,
            "object_position": null,
            "object_fit": null,
            "grid_auto_columns": null,
            "margin": null,
            "display": null,
            "left": null
          }
        },
        "8db6c3d21034494297f6c33177b46789": {
          "model_module": "@jupyter-widgets/output",
          "model_name": "OutputModel",
          "state": {
            "_view_name": "OutputView",
            "msg_id": "",
            "_dom_classes": [],
            "_model_name": "OutputModel",
            "outputs": [],
            "_view_module": "@jupyter-widgets/output",
            "_model_module_version": "1.0.0",
            "_view_count": null,
            "_view_module_version": "1.0.0",
            "layout": "IPY_MODEL_1ec4e73579bd43d6a5b45844f5d4c37d",
            "_model_module": "@jupyter-widgets/output"
          }
        },
        "1ec4e73579bd43d6a5b45844f5d4c37d": {
          "model_module": "@jupyter-widgets/base",
          "model_name": "LayoutModel",
          "state": {
            "_view_name": "LayoutView",
            "grid_template_rows": null,
            "right": null,
            "justify_content": null,
            "_view_module": "@jupyter-widgets/base",
            "overflow": null,
            "_model_module_version": "1.2.0",
            "_view_count": null,
            "flex_flow": null,
            "width": null,
            "min_width": null,
            "border": null,
            "align_items": null,
            "bottom": null,
            "_model_module": "@jupyter-widgets/base",
            "top": null,
            "grid_column": null,
            "overflow_y": null,
            "overflow_x": null,
            "grid_auto_flow": null,
            "grid_area": null,
            "grid_template_columns": null,
            "flex": null,
            "_model_name": "LayoutModel",
            "justify_items": null,
            "grid_row": null,
            "max_height": null,
            "align_content": null,
            "visibility": null,
            "align_self": null,
            "height": null,
            "min_height": null,
            "padding": null,
            "grid_auto_rows": null,
            "grid_gap": null,
            "max_width": null,
            "order": null,
            "_view_module_version": "1.2.0",
            "grid_template_areas": null,
            "object_position": null,
            "object_fit": null,
            "grid_auto_columns": null,
            "margin": null,
            "display": null,
            "left": null
          }
        }
      }
    }
  },
  "cells": [
    {
      "cell_type": "markdown",
      "metadata": {
        "id": "UCZkhAgoRMCS"
      },
      "source": [
        "# La música en la Catedral de Santo Domingo de la Calzada\n",
        "## Aplicación para la búsqueda de palabras del Capítulo 1"
      ]
    },
    {
      "cell_type": "code",
      "metadata": {
        "id": "oo3FYY-4RjkM"
      },
      "source": [
        "import numpy as np\n",
        "import cv2\n",
        "import sys\n",
        "import pickle\n",
        "import re,string\n",
        "from unicodedata import normalize\n",
        "import matplotlib.pyplot as plt\n",
        "from ipywidgets import interactive\n",
        "import ipywidgets as widgets\n",
        "from IPython.display import display\n",
        "%matplotlib inline"
      ],
      "execution_count": 29,
      "outputs": []
    },
    {
      "cell_type": "code",
      "metadata": {
        "id": "S2x_LyGchr62"
      },
      "source": [
        "with open(\"texto.pickle\", \"rb\") as f:\n",
        "    texto = pickle.load(f)"
      ],
      "execution_count": 3,
      "outputs": []
    },
    {
      "cell_type": "code",
      "metadata": {
        "id": "4vEQLOK6ZXpM"
      },
      "source": [
        "def remove_punctuation(frase):\n",
        "  char = re.sub('[%s]' % re.escape(string.punctuation.replace('-','')),'',frase)\n",
        "  char = char.replace('¿','').replace('?','').replace('`','').replace('´','').replace('#','').lower()\n",
        "  char = re.sub(\n",
        "        r\"([^n\\u0300-\\u036f]|n(?!\\u0303(?![\\u0300-\\u036f])))[\\u0300-\\u036f]+\", r\"\\1\", \n",
        "        normalize( \"NFD\", char), 0, re.I\n",
        "    )\n",
        "  char = normalize( 'NFC', char)\n",
        "  return char"
      ],
      "execution_count": 4,
      "outputs": []
    },
    {
      "cell_type": "code",
      "metadata": {
        "id": "VDVwlZkgZS-L"
      },
      "source": [
        "def buscar(frase,texto): # Las fotos están en una carpeta. El texto es nuestro diccionario con la información.\n",
        "  fotos = []\n",
        "  path = '/content/Fotos/' # Las fotos están almacenadas en una carpeta, que más tarde será una base de datos.\n",
        "  frase = frase.split()\n",
        "  n = len(frase)\n",
        "  frase = ''.join(frase)\n",
        "  frase =  remove_punctuation(frase).replace(' ','')\n",
        "  for cla in texto:\n",
        "    foto = cv2.imread(path + 'pag' + str(cla) + '.jpg') # Vamos abriendo las fotos página a página\n",
        "    foto = cv2.cvtColor(foto, cv2.COLOR_BGR2RGB)\n",
        "    N = len(texto[cla]['text'])\n",
        "    j = 0\n",
        "    encontrado = False\n",
        "    while j < N:\n",
        "      k = j\n",
        "      b = True\n",
        "      siguiente = texto[cla]['text'][j:n+j]\n",
        "      if siguiente[-1][-1] == '-':\n",
        "        siguiente = ''.join(texto[cla]['text'][j:n+j+1])\n",
        "        siguiente = siguiente.replace(' ','').replace('-','')\n",
        "        j = j + 1\n",
        "      else:\n",
        "        siguiente = ''.join(siguiente)\n",
        "        j = j + 1\n",
        "        b = False\n",
        "\n",
        "      if frase in siguiente:\n",
        "        encontrado = True\n",
        "        x = texto[cla]['left'][k]\n",
        "        y = texto[cla]['top'][k]\n",
        "        h = texto[cla]['height'][k]\n",
        "        w = 0\n",
        "        for i in range(k,k+n):\n",
        "          w = w + texto[cla]['width'][i] + 7 # le añado un poco más para tener en cuenta la separación entre palabras \n",
        "        cv2.rectangle(foto,(x-10,y-10),(x+w+10,y+h+10),(226,182,19),2)\n",
        "        if b:\n",
        "          x = texto[cla]['left'][k+n]\n",
        "          y = texto[cla]['top'][k+n]\n",
        "          h = texto[cla]['height'][k+n]\n",
        "          w = texto[cla]['width'][k+n]\n",
        "          cv2.rectangle(foto,(x-10,y-10),(x+w+10,y+h+10),(226,182,19),2)\n",
        "    if encontrado == True: fotos.append(foto)\n",
        "\n",
        "  n = len(fotos)\n",
        "  if n == 0:\n",
        "    print('La palabra no aparece o está mal escrita.')\n",
        "  else:\n",
        "    print('APARECE EN ' + str(len(fotos)) + ' PÁGINAS.')\n",
        "    fig, ax = plt.subplots(n,1,figsize=(16*n,16*n))\n",
        "    for i in range(0,n):\n",
        "      if n == 1:\n",
        "        ax.imshow(fotos[i])\n",
        "      else:\n",
        "        ax[i].imshow(fotos[i])\n",
        "    plt.show()"
      ],
      "execution_count": 5,
      "outputs": []
    },
    {
      "cell_type": "code",
      "metadata": {
        "colab": {
          "base_uri": "https://localhost:8080/",
          "height": 81,
          "referenced_widgets": [
            "be0fd309fd7d4bc599e9d09bac5df1fb",
            "5b8bf2550d1d4ffaa4b631bcc49b4f35",
            "b0210274d6614a88bb41816f078aca7c",
            "c82fb63aac5d455e9e2f2da3bf790150",
            "08137a56d4434eae85c516f9b259a7f8",
            "6aac3b4d3c3f4aa9bb5790d3583ce2e3",
            "8db6c3d21034494297f6c33177b46789",
            "1ec4e73579bd43d6a5b45844f5d4c37d"
          ]
        },
        "id": "ClPZcOIe68zn",
        "outputId": "7a907b83-0e4e-4202-c287-de96a608ea1b"
      },
      "source": [
        "keyword=widgets.Text(\n",
        "    placeholder='Escribe algo',\n",
        "    disabled=False\n",
        ")\n",
        "display(keyword)\n",
        "\n",
        "\n",
        "button = widgets.Button(description=\"Buscar\")\n",
        "display(button)\n",
        "\n",
        "output = widgets.Output()\n",
        "@output.capture()\n",
        "def on_button_clicked(b):\n",
        "  buscar(keyword.value,texto)\n",
        "\n",
        "button.on_click(on_button_clicked)\n",
        "display(output)"
      ],
      "execution_count": 49,
      "outputs": [
        {
          "output_type": "display_data",
          "data": {
            "application/vnd.jupyter.widget-view+json": {
              "model_id": "be0fd309fd7d4bc599e9d09bac5df1fb",
              "version_minor": 0,
              "version_major": 2
            },
            "text/plain": [
              "Text(value='', placeholder='Escribe algo')"
            ]
          },
          "metadata": {
            "tags": []
          }
        },
        {
          "output_type": "display_data",
          "data": {
            "application/vnd.jupyter.widget-view+json": {
              "model_id": "c82fb63aac5d455e9e2f2da3bf790150",
              "version_minor": 0,
              "version_major": 2
            },
            "text/plain": [
              "Button(description='Buscar', style=ButtonStyle())"
            ]
          },
          "metadata": {
            "tags": []
          }
        },
        {
          "output_type": "display_data",
          "data": {
            "application/vnd.jupyter.widget-view+json": {
              "model_id": "8db6c3d21034494297f6c33177b46789",
              "version_minor": 0,
              "version_major": 2
            },
            "text/plain": [
              "Output()"
            ]
          },
          "metadata": {
            "tags": []
          }
        }
      ]
    }
  ]
}