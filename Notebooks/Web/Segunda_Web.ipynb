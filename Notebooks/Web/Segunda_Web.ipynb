{
  "nbformat": 4,
  "nbformat_minor": 0,
  "metadata": {
    "colab": {
      "name": "Segunda_Web.ipynb",
      "provenance": []
    },
    "kernelspec": {
      "name": "python3",
      "display_name": "Python 3"
    },
    "widgets": {
      "application/vnd.jupyter.widget-state+json": {
        "daae7ba6e03e4491ad85b38c7891734c": {
          "model_module": "@jupyter-widgets/controls",
          "model_name": "TextModel",
          "state": {
            "_view_name": "TextView",
            "style": "IPY_MODEL_39320bc206c44111813c6427c4c744c9",
            "_dom_classes": [],
            "description": "",
            "_model_name": "TextModel",
            "placeholder": "Autor: ",
            "_view_module": "@jupyter-widgets/controls",
            "_model_module_version": "1.5.0",
            "value": "",
            "_view_count": null,
            "disabled": false,
            "_view_module_version": "1.5.0",
            "continuous_update": true,
            "description_tooltip": null,
            "_model_module": "@jupyter-widgets/controls",
            "layout": "IPY_MODEL_778f0304a1b04efdb3e620b8658be339"
          }
        },
        "39320bc206c44111813c6427c4c744c9": {
          "model_module": "@jupyter-widgets/controls",
          "model_name": "DescriptionStyleModel",
          "state": {
            "_view_name": "StyleView",
            "_model_name": "DescriptionStyleModel",
            "description_width": "",
            "_view_module": "@jupyter-widgets/base",
            "_model_module_version": "1.5.0",
            "_view_count": null,
            "_view_module_version": "1.2.0",
            "_model_module": "@jupyter-widgets/controls"
          }
        },
        "778f0304a1b04efdb3e620b8658be339": {
          "model_module": "@jupyter-widgets/base",
          "model_name": "LayoutModel",
          "state": {
            "_view_name": "LayoutView",
            "grid_template_rows": null,
            "right": null,
            "justify_content": null,
            "_view_module": "@jupyter-widgets/base",
            "overflow": null,
            "_model_module_version": "1.2.0",
            "_view_count": null,
            "flex_flow": null,
            "width": null,
            "min_width": null,
            "border": null,
            "align_items": null,
            "bottom": null,
            "_model_module": "@jupyter-widgets/base",
            "top": null,
            "grid_column": null,
            "overflow_y": null,
            "overflow_x": null,
            "grid_auto_flow": null,
            "grid_area": null,
            "grid_template_columns": null,
            "flex": null,
            "_model_name": "LayoutModel",
            "justify_items": null,
            "grid_row": null,
            "max_height": null,
            "align_content": null,
            "visibility": null,
            "align_self": null,
            "height": null,
            "min_height": null,
            "padding": null,
            "grid_auto_rows": null,
            "grid_gap": null,
            "max_width": null,
            "order": null,
            "_view_module_version": "1.2.0",
            "grid_template_areas": null,
            "object_position": null,
            "object_fit": null,
            "grid_auto_columns": null,
            "margin": null,
            "display": null,
            "left": null
          }
        },
        "6bf41c217f984644868e581c8c11c0e7": {
          "model_module": "@jupyter-widgets/controls",
          "model_name": "ButtonModel",
          "state": {
            "_view_name": "ButtonView",
            "style": "IPY_MODEL_c0eefee9fd904b7eaea88ca1e64ab08c",
            "_dom_classes": [],
            "description": "Buscar",
            "_model_name": "ButtonModel",
            "button_style": "",
            "_view_module": "@jupyter-widgets/controls",
            "_model_module_version": "1.5.0",
            "tooltip": "",
            "_view_count": null,
            "disabled": false,
            "_view_module_version": "1.5.0",
            "layout": "IPY_MODEL_a9bdfb36cd3a463d88bc28cb1e544e6c",
            "_model_module": "@jupyter-widgets/controls",
            "icon": ""
          }
        },
        "c0eefee9fd904b7eaea88ca1e64ab08c": {
          "model_module": "@jupyter-widgets/controls",
          "model_name": "ButtonStyleModel",
          "state": {
            "_view_name": "StyleView",
            "_model_name": "ButtonStyleModel",
            "_view_module": "@jupyter-widgets/base",
            "_model_module_version": "1.5.0",
            "_view_count": null,
            "button_color": null,
            "font_weight": "",
            "_view_module_version": "1.2.0",
            "_model_module": "@jupyter-widgets/controls"
          }
        },
        "a9bdfb36cd3a463d88bc28cb1e544e6c": {
          "model_module": "@jupyter-widgets/base",
          "model_name": "LayoutModel",
          "state": {
            "_view_name": "LayoutView",
            "grid_template_rows": null,
            "right": null,
            "justify_content": null,
            "_view_module": "@jupyter-widgets/base",
            "overflow": null,
            "_model_module_version": "1.2.0",
            "_view_count": null,
            "flex_flow": null,
            "width": null,
            "min_width": null,
            "border": null,
            "align_items": null,
            "bottom": null,
            "_model_module": "@jupyter-widgets/base",
            "top": null,
            "grid_column": null,
            "overflow_y": null,
            "overflow_x": null,
            "grid_auto_flow": null,
            "grid_area": null,
            "grid_template_columns": null,
            "flex": null,
            "_model_name": "LayoutModel",
            "justify_items": null,
            "grid_row": null,
            "max_height": null,
            "align_content": null,
            "visibility": null,
            "align_self": null,
            "height": null,
            "min_height": null,
            "padding": null,
            "grid_auto_rows": null,
            "grid_gap": null,
            "max_width": null,
            "order": null,
            "_view_module_version": "1.2.0",
            "grid_template_areas": null,
            "object_position": null,
            "object_fit": null,
            "grid_auto_columns": null,
            "margin": null,
            "display": null,
            "left": null
          }
        },
        "73b8e0752118477ba0eae9491fe52795": {
          "model_module": "@jupyter-widgets/output",
          "model_name": "OutputModel",
          "state": {
            "_view_name": "OutputView",
            "msg_id": "",
            "_dom_classes": [],
            "_model_name": "OutputModel",
            "outputs": [],
            "_view_module": "@jupyter-widgets/output",
            "_model_module_version": "1.0.0",
            "_view_count": null,
            "_view_module_version": "1.0.0",
            "layout": "IPY_MODEL_8b0babd9820b4af7912f581a53f28562",
            "_model_module": "@jupyter-widgets/output"
          }
        },
        "8b0babd9820b4af7912f581a53f28562": {
          "model_module": "@jupyter-widgets/base",
          "model_name": "LayoutModel",
          "state": {
            "_view_name": "LayoutView",
            "grid_template_rows": null,
            "right": null,
            "justify_content": null,
            "_view_module": "@jupyter-widgets/base",
            "overflow": null,
            "_model_module_version": "1.2.0",
            "_view_count": null,
            "flex_flow": null,
            "width": null,
            "min_width": null,
            "border": null,
            "align_items": null,
            "bottom": null,
            "_model_module": "@jupyter-widgets/base",
            "top": null,
            "grid_column": null,
            "overflow_y": null,
            "overflow_x": null,
            "grid_auto_flow": null,
            "grid_area": null,
            "grid_template_columns": null,
            "flex": null,
            "_model_name": "LayoutModel",
            "justify_items": null,
            "grid_row": null,
            "max_height": null,
            "align_content": null,
            "visibility": null,
            "align_self": null,
            "height": null,
            "min_height": null,
            "padding": null,
            "grid_auto_rows": null,
            "grid_gap": null,
            "max_width": null,
            "order": null,
            "_view_module_version": "1.2.0",
            "grid_template_areas": null,
            "object_position": null,
            "object_fit": null,
            "grid_auto_columns": null,
            "margin": null,
            "display": null,
            "left": null
          }
        }
      }
    }
  },
  "cells": [
    {
      "cell_type": "markdown",
      "metadata": {
        "id": "qIx7alA3DQHb"
      },
      "source": [
        "# La música en la Catedral de Santo Domingo de la Calzada\n",
        "## Aplicación para buscar las obras de los autores\n",
        "Vamos a presentar una sencilla página web que, dado un autor, nos devuelva todas sus obras clasificadas.\n",
        "- **Nota:** algunos autores tienen distinto el nombre en las páginas y en el índice onomástico. Por ejemplo el autor *Prado, Ramón José* en las páginas del libro aparece como *Prado*, por lo que habrá que buscarlo por este segundo nombre (el de las páginas)."
      ]
    },
    {
      "cell_type": "code",
      "metadata": {
        "id": "qqHGHssMBX6Y"
      },
      "source": [
        "import numpy as np\n",
        "import cv2\n",
        "import pickle\n",
        "import re,string\n",
        "from unicodedata import normalize\n",
        "import matplotlib.pyplot as plt\n",
        "import ipywidgets as widgets\n",
        "from IPython.display import display\n",
        "import os.path as path\n",
        "%matplotlib inline"
      ],
      "execution_count": null,
      "outputs": []
    },
    {
      "cell_type": "code",
      "metadata": {
        "id": "JdWrvNrqZL2g"
      },
      "source": [
        "%%capture\n",
        "if not path.exists('/content/Fotos.zip'):\n",
        "  !wget https://www.dropbox.com/s/u2ekoltvu35kfjw/Fotos.zip?dl=1 -O Fotos.zip"
      ],
      "execution_count": null,
      "outputs": []
    },
    {
      "cell_type": "code",
      "metadata": {
        "id": "8Ly37zDICQp4"
      },
      "source": [
        "%%capture\n",
        "if not path.exists('/content/Fotos'):\n",
        "  !unzip Fotos.zip"
      ],
      "execution_count": null,
      "outputs": []
    },
    {
      "cell_type": "code",
      "metadata": {
        "id": "3nxhW07WEOdV"
      },
      "source": [
        "with open(\"Obras_final.pickle\", \"rb\") as f:\n",
        "    Obras_final = pickle.load(f)\n",
        "with open(\"ini_Obras.pickle\", \"rb\") as f:\n",
        "    ini_Obras = pickle.load(f)"
      ],
      "execution_count": null,
      "outputs": []
    },
    {
      "cell_type": "code",
      "metadata": {
        "id": "-4r-k8LSEWZD"
      },
      "source": [
        "def remove_punctuation(frase):\n",
        "  char = re.sub('[%s]' % re.escape(string.punctuation.replace('-','')),'',frase)\n",
        "  char = char.replace('¿','').replace('?','').replace('`','').replace('´','').replace('#','').lower()\n",
        "  char = re.sub(\n",
        "        r\"([^n\\u0300-\\u036f]|n(?!\\u0303(?![\\u0300-\\u036f])))[\\u0300-\\u036f]+\", r\"\\1\", \n",
        "        normalize( \"NFD\", char), 0, re.I\n",
        "    )\n",
        "  char = normalize( 'NFC', char)\n",
        "  return char"
      ],
      "execution_count": null,
      "outputs": []
    },
    {
      "cell_type": "code",
      "metadata": {
        "id": "e1jmDZ_6FCrk"
      },
      "source": [
        "Autores = list(Obras_final.keys())\n",
        "Autores2 = [remove_punctuation(a) for a in Autores]\n",
        "Autores22 = []\n",
        "for a in Autores:\n",
        "  if len(a.split(sep=',')) > 1:\n",
        "    Autores22.append(remove_punctuation(' '.join(a.split(sep=',')[::-1]))[1:])\n",
        "  else:\n",
        "    Autores22.append(remove_punctuation(' '.join(a.split(sep=',')[::-1])))"
      ],
      "execution_count": null,
      "outputs": []
    },
    {
      "cell_type": "code",
      "metadata": {
        "id": "K1adq_dGJft8"
      },
      "source": [
        "def verPagina(num_obra):\n",
        "  for cla in ini_Obras:\n",
        "    if num_obra in ini_Obras[cla]: return cla"
      ],
      "execution_count": null,
      "outputs": []
    },
    {
      "cell_type": "code",
      "metadata": {
        "id": "hq5vd6gLEXG0"
      },
      "source": [
        "def buscar(autor):\n",
        "  if autor not in Autores + Autores2 + Autores22: print('Ese autor no existe o está mal escrito.')\n",
        "  else:\n",
        "    if autor in Autores2:\n",
        "      autor = Autores[Autores2.index(autor)]\n",
        "    elif autor in Autores22:\n",
        "      autor = Autores[Autores22.index(autor)]\n",
        "    Foto = np.zeros((100,1000,3),dtype='uint8') + 255\n",
        "    cv2.putText(Foto, 'Aqui estan las obras del autor: ' + remove_punctuation(autor), (100, 60), cv2.FONT_HERSHEY_TRIPLEX,0.8, (0, 0, 0), 2)\n",
        "    fig, ax = plt.subplots(1,1,figsize=(16,16))\n",
        "    ax.axis('off')\n",
        "    ax.xaxis.set_ticklabels([])\n",
        "    ax.yaxis.set_ticklabels([])\n",
        "    ax.imshow(Foto,cmap=plt.cm.binary)\n",
        "    plt.show()\n",
        "    for i in Obras_final[autor]:\n",
        "      Foto = []\n",
        "      pag = verPagina(i)\n",
        "      n = len(Obras_final[autor][i]['Coordenadas'])\n",
        "      for j in range(0,n):\n",
        "        x,y,w,h = Obras_final[autor][i]['Coordenadas'][j]\n",
        "        fot = cv2.imread('Fotos/pag'+str(pag+j)+'.jpg')\n",
        "        fot = cv2.cvtColor(fot,cv2.COLOR_BGR2RGB)\n",
        "        Foto.append(fot[y:y+h+5,x:x+w])\n",
        "      Foto = np.concatenate([np.zeros((100,1080,3),dtype='uint8')+255]+Foto,axis=0)\n",
        "      types = 'Tipos: ' + ', '.join([remove_punctuation(t) for t in Obras_final[autor][i]['Tipo']])\n",
        "      cv2.rectangle(Foto, (0,0), (1080,50), (119, 90, 17), 2)\n",
        "      cv2.putText(Foto, types, (150, 30), cv2.FONT_HERSHEY_TRIPLEX,0.65, (0, 0, 0), 1)\n",
        "      cv2.putText(Foto, 'Pagina: ' + str(pag), (500, 30), cv2.FONT_HERSHEY_TRIPLEX,0.65, (0, 0, 0), 1)\n",
        "      fig, ax = plt.subplots(1,1,figsize=(16,16))\n",
        "      ax.imshow(Foto,cmap=plt.cm.binary)\n",
        "      ax.axis('off')\n",
        "      ax.xaxis.set_ticklabels([])\n",
        "      ax.yaxis.set_ticklabels([])\n",
        "      plt.show()"
      ],
      "execution_count": null,
      "outputs": []
    },
    {
      "cell_type": "code",
      "metadata": {
        "id": "9CZ3l4imS_h_",
        "colab": {
          "base_uri": "https://localhost:8080/",
          "height": 81,
          "referenced_widgets": [
            "daae7ba6e03e4491ad85b38c7891734c",
            "39320bc206c44111813c6427c4c744c9",
            "778f0304a1b04efdb3e620b8658be339",
            "6bf41c217f984644868e581c8c11c0e7",
            "c0eefee9fd904b7eaea88ca1e64ab08c",
            "a9bdfb36cd3a463d88bc28cb1e544e6c",
            "73b8e0752118477ba0eae9491fe52795",
            "8b0babd9820b4af7912f581a53f28562"
          ]
        },
        "outputId": "4b732dee-e206-48f6-b678-96c9ef7c98f9"
      },
      "source": [
        "keyword=widgets.Text(\n",
        "    placeholder='Autor: ',\n",
        "    disabled=False\n",
        ")\n",
        "display(keyword)\n",
        "\n",
        "\n",
        "button = widgets.Button(description=\"Buscar\")\n",
        "display(button)\n",
        "\n",
        "output = widgets.Output()\n",
        "@output.capture()\n",
        "def on_button_clicked(b):\n",
        "  output.clear_output()\n",
        "  if keyword.value == '': \n",
        "    print('No has escrito nada.')\n",
        "  else:\n",
        "    buscar(keyword.value)\n",
        "\n",
        "button.on_click(on_button_clicked)\n",
        "display(output)"
      ],
      "execution_count": null,
      "outputs": [
        {
          "output_type": "display_data",
          "data": {
            "application/vnd.jupyter.widget-view+json": {
              "model_id": "daae7ba6e03e4491ad85b38c7891734c",
              "version_minor": 0,
              "version_major": 2
            },
            "text/plain": [
              "Text(value='', placeholder='Autor: ')"
            ]
          },
          "metadata": {
            "tags": []
          }
        },
        {
          "output_type": "display_data",
          "data": {
            "application/vnd.jupyter.widget-view+json": {
              "model_id": "6bf41c217f984644868e581c8c11c0e7",
              "version_minor": 0,
              "version_major": 2
            },
            "text/plain": [
              "Button(description='Buscar', style=ButtonStyle())"
            ]
          },
          "metadata": {
            "tags": []
          }
        },
        {
          "output_type": "display_data",
          "data": {
            "application/vnd.jupyter.widget-view+json": {
              "model_id": "73b8e0752118477ba0eae9491fe52795",
              "version_minor": 0,
              "version_major": 2
            },
            "text/plain": [
              "Output()"
            ]
          },
          "metadata": {
            "tags": []
          }
        }
      ]
    }
  ]
}